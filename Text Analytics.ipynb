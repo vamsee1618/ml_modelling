{
  "cells": [
    {
      "cell_type": "code",
      "execution_count": 2,
      "metadata": {
        "colab": {
          "base_uri": "https://localhost:8080/"
        },
        "id": "vzYoKaql4TH0",
        "outputId": "ffea3689-82c9-4625-b3ad-6b0cb0927ded"
      },
      "outputs": [
        {
          "output_type": "stream",
          "name": "stdout",
          "text": [
            "Drive already mounted at /content/gdrive; to attempt to forcibly remount, call drive.mount(\"/content/gdrive\", force_remount=True).\n"
          ]
        }
      ],
      "source": [
        "import gzip\n",
        "import gensim \n",
        "from sklearn.model_selection import train_test_split\n",
        "import pandas as pd\n",
        "import numpy as np\n",
        "from sklearn.linear_model import LogisticRegression\n",
        "from tqdm import tqdm\n",
        "from sklearn.metrics import accuracy_score\n",
        "import matplotlib.pyplot as plt\n",
        "import tensorflow as tf\n",
        "from keras.models import Sequential\n",
        "from keras.layers import Dense, LSTM, Embedding\n",
        "from keras.preprocessing.text import Tokenizer\n",
        "from tensorflow.keras.preprocessing.sequence import pad_sequences\n",
        "from sklearn.preprocessing import LabelEncoder\n",
        "from google.colab import drive\n",
        "from gensim.models import KeyedVectors\n",
        "from sklearn.decomposition import PCA\n",
        "import matplotlib.pyplot as plt\n",
        "drive.mount(\"/content/gdrive\")"
      ]
    },
    {
      "cell_type": "markdown",
      "metadata": {
        "id": "xNnY9Yc44TH3"
      },
      "source": [
        "## Word2Vec Understanding"
      ]
    },
    {
      "cell_type": "code",
      "execution_count": 2,
      "metadata": {
        "id": "3F_Xzyeg4TH5"
      },
      "outputs": [],
      "source": [
        "def read_input(input_file):\n",
        "    with gzip.open(input_file, 'rb') as f:\n",
        "        for i, line in enumerate (f): \n",
        "            yield gensim.utils.simple_preprocess(line)\n",
        "\n",
        "\n",
        "documents = list(read_input('reviews_data.txt.gz'))"
      ]
    },
    {
      "cell_type": "code",
      "execution_count": null,
      "metadata": {
        "id": "OrHsH9hB4TH6",
        "outputId": "72518d5b-16a0-4f3d-897e-3d92e24a4e45"
      },
      "outputs": [
        {
          "name": "stderr",
          "output_type": "stream",
          "text": [
            "2023-03-07 20:41:13,243 : INFO : collecting all words and their counts\n",
            "2023-03-07 20:41:13,246 : INFO : PROGRESS: at sentence #0, processed 0 words, keeping 0 word types\n",
            "2023-03-07 20:41:13,499 : INFO : PROGRESS: at sentence #10000, processed 1655714 words, keeping 25777 word types\n",
            "2023-03-07 20:41:13,744 : INFO : PROGRESS: at sentence #20000, processed 3317863 words, keeping 35016 word types\n",
            "2023-03-07 20:41:14,076 : INFO : PROGRESS: at sentence #30000, processed 5264072 words, keeping 47518 word types\n",
            "2023-03-07 20:41:14,437 : INFO : PROGRESS: at sentence #40000, processed 7081746 words, keeping 56675 word types\n",
            "2023-03-07 20:41:14,803 : INFO : PROGRESS: at sentence #50000, processed 9089491 words, keeping 63744 word types\n",
            "2023-03-07 20:41:15,165 : INFO : PROGRESS: at sentence #60000, processed 11013727 words, keeping 76787 word types\n",
            "2023-03-07 20:41:15,415 : INFO : PROGRESS: at sentence #70000, processed 12637529 words, keeping 83200 word types\n",
            "2023-03-07 20:41:15,718 : INFO : PROGRESS: at sentence #80000, processed 14099755 words, keeping 88460 word types\n",
            "2023-03-07 20:41:15,955 : INFO : PROGRESS: at sentence #90000, processed 15662153 words, keeping 93358 word types\n",
            "2023-03-07 20:41:16,280 : INFO : PROGRESS: at sentence #100000, processed 17164491 words, keeping 97887 word types\n",
            "2023-03-07 20:41:16,550 : INFO : PROGRESS: at sentence #110000, processed 18652296 words, keeping 102133 word types\n",
            "2023-03-07 20:41:16,799 : INFO : PROGRESS: at sentence #120000, processed 20152533 words, keeping 105924 word types\n",
            "2023-03-07 20:41:17,058 : INFO : PROGRESS: at sentence #130000, processed 21684334 words, keeping 110105 word types\n",
            "2023-03-07 20:41:17,310 : INFO : PROGRESS: at sentence #140000, processed 23330210 words, keeping 114109 word types\n",
            "2023-03-07 20:41:17,577 : INFO : PROGRESS: at sentence #150000, processed 24838758 words, keeping 118175 word types\n",
            "2023-03-07 20:41:17,827 : INFO : PROGRESS: at sentence #160000, processed 26390914 words, keeping 118671 word types\n",
            "2023-03-07 20:41:18,056 : INFO : PROGRESS: at sentence #170000, processed 27913920 words, keeping 123357 word types\n",
            "2023-03-07 20:41:18,303 : INFO : PROGRESS: at sentence #180000, processed 29535616 words, keeping 126749 word types\n",
            "2023-03-07 20:41:18,591 : INFO : PROGRESS: at sentence #190000, processed 31096463 words, keeping 129848 word types\n",
            "2023-03-07 20:41:18,923 : INFO : PROGRESS: at sentence #200000, processed 32805275 words, keeping 133256 word types\n",
            "2023-03-07 20:41:19,248 : INFO : PROGRESS: at sentence #210000, processed 34434202 words, keeping 136365 word types\n",
            "2023-03-07 20:41:19,540 : INFO : PROGRESS: at sentence #220000, processed 36083486 words, keeping 139419 word types\n",
            "2023-03-07 20:41:19,786 : INFO : PROGRESS: at sentence #230000, processed 37571766 words, keeping 142400 word types\n",
            "2023-03-07 20:41:20,031 : INFO : PROGRESS: at sentence #240000, processed 39138194 words, keeping 145233 word types\n",
            "2023-03-07 20:41:20,343 : INFO : PROGRESS: at sentence #250000, processed 40695053 words, keeping 147967 word types\n",
            "2023-03-07 20:41:20,522 : INFO : collected 150060 word types from a corpus of 41519359 raw words and 255404 sentences\n",
            "2023-03-07 20:41:20,523 : INFO : Creating a fresh vocabulary\n",
            "2023-03-07 20:41:20,807 : INFO : Word2Vec lifecycle event {'msg': 'effective_min_count=2 retains 70537 unique words (47.005864320938294%% of original 150060, drops 79523)', 'datetime': '2023-03-07T20:41:20.807220', 'gensim': '4.1.2', 'python': '3.9.12 (main, Apr  4 2022, 05:22:27) [MSC v.1916 64 bit (AMD64)]', 'platform': 'Windows-10-10.0.19045-SP0', 'event': 'prepare_vocab'}\n",
            "2023-03-07 20:41:20,808 : INFO : Word2Vec lifecycle event {'msg': 'effective_min_count=2 leaves 41439836 word corpus (99.80846765962836%% of original 41519359, drops 79523)', 'datetime': '2023-03-07T20:41:20.808217', 'gensim': '4.1.2', 'python': '3.9.12 (main, Apr  4 2022, 05:22:27) [MSC v.1916 64 bit (AMD64)]', 'platform': 'Windows-10-10.0.19045-SP0', 'event': 'prepare_vocab'}\n",
            "2023-03-07 20:41:21,146 : INFO : deleting the raw counts dictionary of 150060 items\n",
            "2023-03-07 20:41:21,150 : INFO : sample=0.001 downsamples 55 most-common words\n",
            "2023-03-07 20:41:21,151 : INFO : Word2Vec lifecycle event {'msg': 'downsampling leaves estimated 30349251.36700416 word corpus (73.2%% of prior 41439836)', 'datetime': '2023-03-07T20:41:21.151610', 'gensim': '4.1.2', 'python': '3.9.12 (main, Apr  4 2022, 05:22:27) [MSC v.1916 64 bit (AMD64)]', 'platform': 'Windows-10-10.0.19045-SP0', 'event': 'prepare_vocab'}\n",
            "2023-03-07 20:41:21,624 : INFO : estimated required memory for 70537 words and 150 dimensions: 119912900 bytes\n",
            "2023-03-07 20:41:21,624 : INFO : resetting layer weights\n",
            "2023-03-07 20:41:21,707 : INFO : Word2Vec lifecycle event {'update': False, 'trim_rule': 'None', 'datetime': '2023-03-07T20:41:21.707115', 'gensim': '4.1.2', 'python': '3.9.12 (main, Apr  4 2022, 05:22:27) [MSC v.1916 64 bit (AMD64)]', 'platform': 'Windows-10-10.0.19045-SP0', 'event': 'build_vocab'}\n",
            "2023-03-07 20:41:21,708 : INFO : Word2Vec lifecycle event {'msg': 'training model with 10 workers on 70537 vocabulary and 150 features, using sg=0 hs=0 sample=0.001 negative=5 window=10 shrink_windows=True', 'datetime': '2023-03-07T20:41:21.708113', 'gensim': '4.1.2', 'python': '3.9.12 (main, Apr  4 2022, 05:22:27) [MSC v.1916 64 bit (AMD64)]', 'platform': 'Windows-10-10.0.19045-SP0', 'event': 'train'}\n",
            "2023-03-07 20:41:22,737 : INFO : EPOCH 1 - PROGRESS: at 3.77% examples, 1161844 words/s, in_qsize 18, out_qsize 1\n",
            "2023-03-07 20:41:23,736 : INFO : EPOCH 1 - PROGRESS: at 7.95% examples, 1228963 words/s, in_qsize 19, out_qsize 0\n",
            "2023-03-07 20:41:24,737 : INFO : EPOCH 1 - PROGRESS: at 11.45% examples, 1235932 words/s, in_qsize 18, out_qsize 1\n",
            "2023-03-07 20:41:25,740 : INFO : EPOCH 1 - PROGRESS: at 15.28% examples, 1262672 words/s, in_qsize 19, out_qsize 0\n",
            "2023-03-07 20:41:26,743 : INFO : EPOCH 1 - PROGRESS: at 19.01% examples, 1281340 words/s, in_qsize 18, out_qsize 1\n",
            "2023-03-07 20:41:27,744 : INFO : EPOCH 1 - PROGRESS: at 22.56% examples, 1279038 words/s, in_qsize 19, out_qsize 0\n",
            "2023-03-07 20:41:28,750 : INFO : EPOCH 1 - PROGRESS: at 26.63% examples, 1285686 words/s, in_qsize 19, out_qsize 0\n",
            "2023-03-07 20:41:29,755 : INFO : EPOCH 1 - PROGRESS: at 31.59% examples, 1293682 words/s, in_qsize 19, out_qsize 0\n",
            "2023-03-07 20:41:30,760 : INFO : EPOCH 1 - PROGRESS: at 36.38% examples, 1303058 words/s, in_qsize 19, out_qsize 0\n",
            "2023-03-07 20:41:31,762 : INFO : EPOCH 1 - PROGRESS: at 41.40% examples, 1313092 words/s, in_qsize 19, out_qsize 0\n",
            "2023-03-07 20:41:32,769 : INFO : EPOCH 1 - PROGRESS: at 46.38% examples, 1317888 words/s, in_qsize 19, out_qsize 0\n",
            "2023-03-07 20:41:33,777 : INFO : EPOCH 1 - PROGRESS: at 51.16% examples, 1322949 words/s, in_qsize 19, out_qsize 0\n",
            "2023-03-07 20:41:34,780 : INFO : EPOCH 1 - PROGRESS: at 55.88% examples, 1327962 words/s, in_qsize 19, out_qsize 0\n",
            "2023-03-07 20:41:35,787 : INFO : EPOCH 1 - PROGRESS: at 60.64% examples, 1331180 words/s, in_qsize 19, out_qsize 0\n",
            "2023-03-07 20:41:36,790 : INFO : EPOCH 1 - PROGRESS: at 64.85% examples, 1319202 words/s, in_qsize 17, out_qsize 2\n",
            "2023-03-07 20:41:37,792 : INFO : EPOCH 1 - PROGRESS: at 68.41% examples, 1304391 words/s, in_qsize 19, out_qsize 0\n",
            "2023-03-07 20:41:38,799 : INFO : EPOCH 1 - PROGRESS: at 71.83% examples, 1289941 words/s, in_qsize 19, out_qsize 0\n",
            "2023-03-07 20:41:39,805 : INFO : EPOCH 1 - PROGRESS: at 75.58% examples, 1278691 words/s, in_qsize 19, out_qsize 0\n",
            "2023-03-07 20:41:40,815 : INFO : EPOCH 1 - PROGRESS: at 78.93% examples, 1266781 words/s, in_qsize 18, out_qsize 1\n",
            "2023-03-07 20:41:41,815 : INFO : EPOCH 1 - PROGRESS: at 82.44% examples, 1256750 words/s, in_qsize 19, out_qsize 0\n",
            "2023-03-07 20:41:42,818 : INFO : EPOCH 1 - PROGRESS: at 85.96% examples, 1248120 words/s, in_qsize 19, out_qsize 0\n",
            "2023-03-07 20:41:43,818 : INFO : EPOCH 1 - PROGRESS: at 89.92% examples, 1241640 words/s, in_qsize 19, out_qsize 0\n",
            "2023-03-07 20:41:44,832 : INFO : EPOCH 1 - PROGRESS: at 93.63% examples, 1234015 words/s, in_qsize 19, out_qsize 0\n",
            "2023-03-07 20:41:45,838 : INFO : EPOCH 1 - PROGRESS: at 97.35% examples, 1227098 words/s, in_qsize 19, out_qsize 0\n",
            "2023-03-07 20:41:46,476 : INFO : worker thread finished; awaiting finish of 9 more threads\n"
          ]
        },
        {
          "name": "stderr",
          "output_type": "stream",
          "text": [
            "2023-03-07 20:41:46,490 : INFO : worker thread finished; awaiting finish of 8 more threads\n",
            "2023-03-07 20:41:46,493 : INFO : worker thread finished; awaiting finish of 7 more threads\n",
            "2023-03-07 20:41:46,506 : INFO : worker thread finished; awaiting finish of 6 more threads\n",
            "2023-03-07 20:41:46,511 : INFO : worker thread finished; awaiting finish of 5 more threads\n",
            "2023-03-07 20:41:46,526 : INFO : worker thread finished; awaiting finish of 4 more threads\n",
            "2023-03-07 20:41:46,530 : INFO : worker thread finished; awaiting finish of 3 more threads\n",
            "2023-03-07 20:41:46,532 : INFO : worker thread finished; awaiting finish of 2 more threads\n",
            "2023-03-07 20:41:46,538 : INFO : worker thread finished; awaiting finish of 1 more threads\n",
            "2023-03-07 20:41:46,542 : INFO : worker thread finished; awaiting finish of 0 more threads\n",
            "2023-03-07 20:41:46,543 : INFO : EPOCH - 1 : training on 41519359 raw words (30350572 effective words) took 24.8s, 1223167 effective words/s\n",
            "2023-03-07 20:41:47,560 : INFO : EPOCH 2 - PROGRESS: at 3.28% examples, 1011196 words/s, in_qsize 19, out_qsize 0\n",
            "2023-03-07 20:41:48,566 : INFO : EPOCH 2 - PROGRESS: at 6.79% examples, 1038762 words/s, in_qsize 19, out_qsize 0\n",
            "2023-03-07 20:41:49,570 : INFO : EPOCH 2 - PROGRESS: at 10.04% examples, 1059871 words/s, in_qsize 19, out_qsize 0\n",
            "2023-03-07 20:41:50,588 : INFO : EPOCH 2 - PROGRESS: at 13.08% examples, 1068528 words/s, in_qsize 19, out_qsize 0\n",
            "2023-03-07 20:41:51,590 : INFO : EPOCH 2 - PROGRESS: at 16.29% examples, 1075041 words/s, in_qsize 19, out_qsize 0\n",
            "2023-03-07 20:41:52,593 : INFO : EPOCH 2 - PROGRESS: at 19.18% examples, 1073651 words/s, in_qsize 19, out_qsize 0\n",
            "2023-03-07 20:41:53,598 : INFO : EPOCH 2 - PROGRESS: at 22.30% examples, 1075902 words/s, in_qsize 19, out_qsize 0\n",
            "2023-03-07 20:41:54,599 : INFO : EPOCH 2 - PROGRESS: at 25.36% examples, 1078980 words/s, in_qsize 19, out_qsize 0\n",
            "2023-03-07 20:41:55,607 : INFO : EPOCH 2 - PROGRESS: at 29.28% examples, 1076834 words/s, in_qsize 19, out_qsize 0\n",
            "2023-03-07 20:41:56,615 : INFO : EPOCH 2 - PROGRESS: at 32.49% examples, 1057105 words/s, in_qsize 18, out_qsize 1\n",
            "2023-03-07 20:41:57,617 : INFO : EPOCH 2 - PROGRESS: at 36.15% examples, 1057451 words/s, in_qsize 19, out_qsize 0\n",
            "2023-03-07 20:41:58,627 : INFO : EPOCH 2 - PROGRESS: at 39.98% examples, 1059626 words/s, in_qsize 17, out_qsize 2\n",
            "2023-03-07 20:41:59,627 : INFO : EPOCH 2 - PROGRESS: at 43.98% examples, 1061860 words/s, in_qsize 19, out_qsize 0\n",
            "2023-03-07 20:42:00,638 : INFO : EPOCH 2 - PROGRESS: at 47.80% examples, 1062370 words/s, in_qsize 18, out_qsize 1\n",
            "2023-03-07 20:42:01,644 : INFO : EPOCH 2 - PROGRESS: at 51.64% examples, 1064917 words/s, in_qsize 19, out_qsize 0\n",
            "2023-03-07 20:42:02,653 : INFO : EPOCH 2 - PROGRESS: at 55.29% examples, 1065831 words/s, in_qsize 18, out_qsize 1\n",
            "2023-03-07 20:42:03,663 : INFO : EPOCH 2 - PROGRESS: at 59.16% examples, 1068482 words/s, in_qsize 19, out_qsize 0\n",
            "2023-03-07 20:42:04,677 : INFO : EPOCH 2 - PROGRESS: at 62.92% examples, 1069043 words/s, in_qsize 19, out_qsize 0\n",
            "2023-03-07 20:42:05,677 : INFO : EPOCH 2 - PROGRESS: at 66.84% examples, 1071730 words/s, in_qsize 19, out_qsize 0\n",
            "2023-03-07 20:42:06,685 : INFO : EPOCH 2 - PROGRESS: at 70.53% examples, 1073443 words/s, in_qsize 19, out_qsize 0\n",
            "2023-03-07 20:42:07,687 : INFO : EPOCH 2 - PROGRESS: at 74.28% examples, 1074085 words/s, in_qsize 19, out_qsize 0\n",
            "2023-03-07 20:42:08,693 : INFO : EPOCH 2 - PROGRESS: at 77.78% examples, 1075723 words/s, in_qsize 18, out_qsize 1\n",
            "2023-03-07 20:42:09,693 : INFO : EPOCH 2 - PROGRESS: at 81.31% examples, 1076166 words/s, in_qsize 19, out_qsize 0\n",
            "2023-03-07 20:42:10,699 : INFO : EPOCH 2 - PROGRESS: at 84.76% examples, 1075168 words/s, in_qsize 18, out_qsize 1\n",
            "2023-03-07 20:42:11,703 : INFO : EPOCH 2 - PROGRESS: at 88.63% examples, 1075800 words/s, in_qsize 18, out_qsize 1\n",
            "2023-03-07 20:42:12,708 : INFO : EPOCH 2 - PROGRESS: at 92.51% examples, 1076960 words/s, in_qsize 19, out_qsize 0\n",
            "2023-03-07 20:42:13,722 : INFO : EPOCH 2 - PROGRESS: at 96.26% examples, 1077720 words/s, in_qsize 17, out_qsize 2\n",
            "2023-03-07 20:42:14,630 : INFO : worker thread finished; awaiting finish of 9 more threads\n",
            "2023-03-07 20:42:14,636 : INFO : worker thread finished; awaiting finish of 8 more threads\n",
            "2023-03-07 20:42:14,638 : INFO : worker thread finished; awaiting finish of 7 more threads\n",
            "2023-03-07 20:42:14,647 : INFO : worker thread finished; awaiting finish of 6 more threads\n",
            "2023-03-07 20:42:14,649 : INFO : worker thread finished; awaiting finish of 5 more threads\n",
            "2023-03-07 20:42:14,656 : INFO : worker thread finished; awaiting finish of 4 more threads\n",
            "2023-03-07 20:42:14,662 : INFO : worker thread finished; awaiting finish of 3 more threads\n",
            "2023-03-07 20:42:14,671 : INFO : worker thread finished; awaiting finish of 2 more threads\n",
            "2023-03-07 20:42:14,672 : INFO : worker thread finished; awaiting finish of 1 more threads\n",
            "2023-03-07 20:42:14,681 : INFO : worker thread finished; awaiting finish of 0 more threads\n",
            "2023-03-07 20:42:14,682 : INFO : EPOCH - 2 : training on 41519359 raw words (30349941 effective words) took 28.1s, 1078952 effective words/s\n",
            "2023-03-07 20:42:15,695 : INFO : EPOCH 3 - PROGRESS: at 3.36% examples, 1041480 words/s, in_qsize 20, out_qsize 0\n",
            "2023-03-07 20:42:16,707 : INFO : EPOCH 3 - PROGRESS: at 6.98% examples, 1065652 words/s, in_qsize 19, out_qsize 0\n",
            "2023-03-07 20:42:17,710 : INFO : EPOCH 3 - PROGRESS: at 10.14% examples, 1070828 words/s, in_qsize 19, out_qsize 0\n",
            "2023-03-07 20:42:18,725 : INFO : EPOCH 3 - PROGRESS: at 13.24% examples, 1079676 words/s, in_qsize 19, out_qsize 0\n",
            "2023-03-07 20:42:19,733 : INFO : EPOCH 3 - PROGRESS: at 16.51% examples, 1089721 words/s, in_qsize 18, out_qsize 1\n",
            "2023-03-07 20:42:20,739 : INFO : EPOCH 3 - PROGRESS: at 19.19% examples, 1073473 words/s, in_qsize 18, out_qsize 1\n",
            "2023-03-07 20:42:21,743 : INFO : EPOCH 3 - PROGRESS: at 22.12% examples, 1065879 words/s, in_qsize 19, out_qsize 0\n",
            "2023-03-07 20:42:22,748 : INFO : EPOCH 3 - PROGRESS: at 24.88% examples, 1061492 words/s, in_qsize 19, out_qsize 0\n",
            "2023-03-07 20:42:23,758 : INFO : EPOCH 3 - PROGRESS: at 28.63% examples, 1055544 words/s, in_qsize 19, out_qsize 0\n",
            "2023-03-07 20:42:24,771 : INFO : EPOCH 3 - PROGRESS: at 32.49% examples, 1055250 words/s, in_qsize 19, out_qsize 0\n",
            "2023-03-07 20:42:25,776 : INFO : EPOCH 3 - PROGRESS: at 36.34% examples, 1060592 words/s, in_qsize 18, out_qsize 1\n",
            "2023-03-07 20:42:26,780 : INFO : EPOCH 3 - PROGRESS: at 40.27% examples, 1064334 words/s, in_qsize 19, out_qsize 0\n",
            "2023-03-07 20:42:27,780 : INFO : EPOCH 3 - PROGRESS: at 44.26% examples, 1066178 words/s, in_qsize 19, out_qsize 0\n",
            "2023-03-07 20:42:28,784 : INFO : EPOCH 3 - PROGRESS: at 47.23% examples, 1050519 words/s, in_qsize 19, out_qsize 0\n",
            "2023-03-07 20:42:29,803 : INFO : EPOCH 3 - PROGRESS: at 50.34% examples, 1038383 words/s, in_qsize 19, out_qsize 0\n",
            "2023-03-07 20:42:30,808 : INFO : EPOCH 3 - PROGRESS: at 53.59% examples, 1035629 words/s, in_qsize 18, out_qsize 1\n",
            "2023-03-07 20:42:31,822 : INFO : EPOCH 3 - PROGRESS: at 56.90% examples, 1028859 words/s, in_qsize 19, out_qsize 0\n",
            "2023-03-07 20:42:32,837 : INFO : EPOCH 3 - PROGRESS: at 60.68% examples, 1031952 words/s, in_qsize 19, out_qsize 0\n",
            "2023-03-07 20:42:33,837 : INFO : EPOCH 3 - PROGRESS: at 64.71% examples, 1035738 words/s, in_qsize 19, out_qsize 0\n",
            "2023-03-07 20:42:34,843 : INFO : EPOCH 3 - PROGRESS: at 68.40% examples, 1039233 words/s, in_qsize 19, out_qsize 0\n",
            "2023-03-07 20:42:35,854 : INFO : EPOCH 3 - PROGRESS: at 71.95% examples, 1041997 words/s, in_qsize 19, out_qsize 0\n",
            "2023-03-07 20:42:36,858 : INFO : EPOCH 3 - PROGRESS: at 75.70% examples, 1044276 words/s, in_qsize 19, out_qsize 0\n",
            "2023-03-07 20:42:37,874 : INFO : EPOCH 3 - PROGRESS: at 79.16% examples, 1045640 words/s, in_qsize 19, out_qsize 0\n",
            "2023-03-07 20:42:38,880 : INFO : EPOCH 3 - PROGRESS: at 82.82% examples, 1047991 words/s, in_qsize 18, out_qsize 1\n",
            "2023-03-07 20:42:39,888 : INFO : EPOCH 3 - PROGRESS: at 86.48% examples, 1050344 words/s, in_qsize 19, out_qsize 0\n",
            "2023-03-07 20:42:40,889 : INFO : EPOCH 3 - PROGRESS: at 90.27% examples, 1050735 words/s, in_qsize 18, out_qsize 1\n",
            "2023-03-07 20:42:41,898 : INFO : EPOCH 3 - PROGRESS: at 94.05% examples, 1052351 words/s, in_qsize 19, out_qsize 0\n"
          ]
        },
        {
          "name": "stderr",
          "output_type": "stream",
          "text": [
            "2023-03-07 20:42:42,917 : INFO : EPOCH 3 - PROGRESS: at 97.62% examples, 1051376 words/s, in_qsize 19, out_qsize 0\n",
            "2023-03-07 20:42:43,564 : INFO : worker thread finished; awaiting finish of 9 more threads\n",
            "2023-03-07 20:42:43,567 : INFO : worker thread finished; awaiting finish of 8 more threads\n",
            "2023-03-07 20:42:43,583 : INFO : worker thread finished; awaiting finish of 7 more threads\n",
            "2023-03-07 20:42:43,586 : INFO : worker thread finished; awaiting finish of 6 more threads\n",
            "2023-03-07 20:42:43,587 : INFO : worker thread finished; awaiting finish of 5 more threads\n",
            "2023-03-07 20:42:43,589 : INFO : worker thread finished; awaiting finish of 4 more threads\n",
            "2023-03-07 20:42:43,594 : INFO : worker thread finished; awaiting finish of 3 more threads\n",
            "2023-03-07 20:42:43,596 : INFO : worker thread finished; awaiting finish of 2 more threads\n",
            "2023-03-07 20:42:43,601 : INFO : worker thread finished; awaiting finish of 1 more threads\n",
            "2023-03-07 20:42:43,629 : INFO : worker thread finished; awaiting finish of 0 more threads\n",
            "2023-03-07 20:42:43,630 : INFO : EPOCH - 3 : training on 41519359 raw words (30351737 effective words) took 28.9s, 1048824 effective words/s\n",
            "2023-03-07 20:42:44,640 : INFO : EPOCH 4 - PROGRESS: at 3.13% examples, 966445 words/s, in_qsize 19, out_qsize 0\n",
            "2023-03-07 20:42:45,655 : INFO : EPOCH 4 - PROGRESS: at 6.77% examples, 1033286 words/s, in_qsize 19, out_qsize 0\n",
            "2023-03-07 20:42:46,660 : INFO : EPOCH 4 - PROGRESS: at 9.86% examples, 1037144 words/s, in_qsize 19, out_qsize 0\n",
            "2023-03-07 20:42:47,666 : INFO : EPOCH 4 - PROGRESS: at 12.36% examples, 1011827 words/s, in_qsize 18, out_qsize 1\n",
            "2023-03-07 20:42:48,670 : INFO : EPOCH 4 - PROGRESS: at 14.89% examples, 981662 words/s, in_qsize 17, out_qsize 2\n",
            "2023-03-07 20:42:49,676 : INFO : EPOCH 4 - PROGRESS: at 17.98% examples, 1000696 words/s, in_qsize 19, out_qsize 0\n",
            "2023-03-07 20:42:50,687 : INFO : EPOCH 4 - PROGRESS: at 20.80% examples, 1011815 words/s, in_qsize 18, out_qsize 1\n",
            "2023-03-07 20:42:51,690 : INFO : EPOCH 4 - PROGRESS: at 23.89% examples, 1020315 words/s, in_qsize 18, out_qsize 1\n",
            "2023-03-07 20:42:52,703 : INFO : EPOCH 4 - PROGRESS: at 27.54% examples, 1022419 words/s, in_qsize 19, out_qsize 0\n",
            "2023-03-07 20:42:53,708 : INFO : EPOCH 4 - PROGRESS: at 31.50% examples, 1028561 words/s, in_qsize 19, out_qsize 0\n",
            "2023-03-07 20:42:54,708 : INFO : EPOCH 4 - PROGRESS: at 35.25% examples, 1034736 words/s, in_qsize 19, out_qsize 0\n",
            "2023-03-07 20:42:55,713 : INFO : EPOCH 4 - PROGRESS: at 39.09% examples, 1037520 words/s, in_qsize 19, out_qsize 0\n",
            "2023-03-07 20:42:56,715 : INFO : EPOCH 4 - PROGRESS: at 43.07% examples, 1042829 words/s, in_qsize 19, out_qsize 0\n",
            "2023-03-07 20:42:57,715 : INFO : EPOCH 4 - PROGRESS: at 46.85% examples, 1043515 words/s, in_qsize 19, out_qsize 0\n",
            "2023-03-07 20:42:58,715 : INFO : EPOCH 4 - PROGRESS: at 50.68% examples, 1047437 words/s, in_qsize 18, out_qsize 1\n",
            "2023-03-07 20:42:59,717 : INFO : EPOCH 4 - PROGRESS: at 54.24% examples, 1049724 words/s, in_qsize 19, out_qsize 0\n",
            "2023-03-07 20:43:00,719 : INFO : EPOCH 4 - PROGRESS: at 58.00% examples, 1050808 words/s, in_qsize 18, out_qsize 1\n",
            "2023-03-07 20:43:01,720 : INFO : EPOCH 4 - PROGRESS: at 61.64% examples, 1051163 words/s, in_qsize 18, out_qsize 1\n",
            "2023-03-07 20:43:02,733 : INFO : EPOCH 4 - PROGRESS: at 65.54% examples, 1052436 words/s, in_qsize 19, out_qsize 0\n",
            "2023-03-07 20:43:03,738 : INFO : EPOCH 4 - PROGRESS: at 69.17% examples, 1053759 words/s, in_qsize 19, out_qsize 0\n",
            "2023-03-07 20:43:04,755 : INFO : EPOCH 4 - PROGRESS: at 72.74% examples, 1054224 words/s, in_qsize 19, out_qsize 0\n",
            "2023-03-07 20:43:05,760 : INFO : EPOCH 4 - PROGRESS: at 76.30% examples, 1055454 words/s, in_qsize 17, out_qsize 2\n",
            "2023-03-07 20:43:06,762 : INFO : EPOCH 4 - PROGRESS: at 79.69% examples, 1055183 words/s, in_qsize 19, out_qsize 0\n",
            "2023-03-07 20:43:07,766 : INFO : EPOCH 4 - PROGRESS: at 83.15% examples, 1054553 words/s, in_qsize 19, out_qsize 0\n",
            "2023-03-07 20:43:08,770 : INFO : EPOCH 4 - PROGRESS: at 86.50% examples, 1053304 words/s, in_qsize 18, out_qsize 1\n",
            "2023-03-07 20:43:09,782 : INFO : EPOCH 4 - PROGRESS: at 90.37% examples, 1054037 words/s, in_qsize 19, out_qsize 0\n",
            "2023-03-07 20:43:10,796 : INFO : EPOCH 4 - PROGRESS: at 94.19% examples, 1055599 words/s, in_qsize 18, out_qsize 1\n",
            "2023-03-07 20:43:11,796 : INFO : EPOCH 4 - PROGRESS: at 97.78% examples, 1055439 words/s, in_qsize 19, out_qsize 0\n",
            "2023-03-07 20:43:12,310 : INFO : worker thread finished; awaiting finish of 9 more threads\n",
            "2023-03-07 20:43:12,320 : INFO : worker thread finished; awaiting finish of 8 more threads\n",
            "2023-03-07 20:43:12,327 : INFO : worker thread finished; awaiting finish of 7 more threads\n",
            "2023-03-07 20:43:12,332 : INFO : worker thread finished; awaiting finish of 6 more threads\n",
            "2023-03-07 20:43:12,348 : INFO : worker thread finished; awaiting finish of 5 more threads\n",
            "2023-03-07 20:43:12,354 : INFO : worker thread finished; awaiting finish of 4 more threads\n",
            "2023-03-07 20:43:12,357 : INFO : worker thread finished; awaiting finish of 3 more threads\n",
            "2023-03-07 20:43:12,363 : INFO : worker thread finished; awaiting finish of 2 more threads\n",
            "2023-03-07 20:43:12,367 : INFO : worker thread finished; awaiting finish of 1 more threads\n",
            "2023-03-07 20:43:12,372 : INFO : worker thread finished; awaiting finish of 0 more threads\n",
            "2023-03-07 20:43:12,373 : INFO : EPOCH - 4 : training on 41519359 raw words (30350258 effective words) took 28.7s, 1056222 effective words/s\n",
            "2023-03-07 20:43:13,390 : INFO : EPOCH 5 - PROGRESS: at 3.15% examples, 967526 words/s, in_qsize 18, out_qsize 1\n",
            "2023-03-07 20:43:14,393 : INFO : EPOCH 5 - PROGRESS: at 6.60% examples, 1011144 words/s, in_qsize 19, out_qsize 0\n",
            "2023-03-07 20:43:15,394 : INFO : EPOCH 5 - PROGRESS: at 9.85% examples, 1038065 words/s, in_qsize 19, out_qsize 0\n",
            "2023-03-07 20:43:16,396 : INFO : EPOCH 5 - PROGRESS: at 12.76% examples, 1050954 words/s, in_qsize 19, out_qsize 0\n",
            "2023-03-07 20:43:17,399 : INFO : EPOCH 5 - PROGRESS: at 16.01% examples, 1059545 words/s, in_qsize 19, out_qsize 0\n",
            "2023-03-07 20:43:18,405 : INFO : EPOCH 5 - PROGRESS: at 18.97% examples, 1064004 words/s, in_qsize 19, out_qsize 0\n",
            "2023-03-07 20:43:19,413 : INFO : EPOCH 5 - PROGRESS: at 22.12% examples, 1069193 words/s, in_qsize 19, out_qsize 0\n",
            "2023-03-07 20:43:20,430 : INFO : EPOCH 5 - PROGRESS: at 25.16% examples, 1071780 words/s, in_qsize 19, out_qsize 0\n",
            "2023-03-07 20:43:21,438 : INFO : EPOCH 5 - PROGRESS: at 29.12% examples, 1071274 words/s, in_qsize 19, out_qsize 0\n",
            "2023-03-07 20:43:22,452 : INFO : EPOCH 5 - PROGRESS: at 33.10% examples, 1073580 words/s, in_qsize 18, out_qsize 1\n",
            "2023-03-07 20:43:23,470 : INFO : EPOCH 5 - PROGRESS: at 36.83% examples, 1072826 words/s, in_qsize 19, out_qsize 0\n",
            "2023-03-07 20:43:24,472 : INFO : EPOCH 5 - PROGRESS: at 40.67% examples, 1074359 words/s, in_qsize 19, out_qsize 0\n",
            "2023-03-07 20:43:25,477 : INFO : EPOCH 5 - PROGRESS: at 44.76% examples, 1075687 words/s, in_qsize 18, out_qsize 1\n",
            "2023-03-07 20:43:26,492 : INFO : EPOCH 5 - PROGRESS: at 48.24% examples, 1069756 words/s, in_qsize 19, out_qsize 0\n",
            "2023-03-07 20:43:27,503 : INFO : EPOCH 5 - PROGRESS: at 51.86% examples, 1067205 words/s, in_qsize 19, out_qsize 0\n",
            "2023-03-07 20:43:28,515 : INFO : EPOCH 5 - PROGRESS: at 55.31% examples, 1064243 words/s, in_qsize 20, out_qsize 1\n",
            "2023-03-07 20:43:29,516 : INFO : EPOCH 5 - PROGRESS: at 58.86% examples, 1061895 words/s, in_qsize 18, out_qsize 1\n",
            "2023-03-07 20:43:30,519 : INFO : EPOCH 5 - PROGRESS: at 62.32% examples, 1058700 words/s, in_qsize 19, out_qsize 0\n",
            "2023-03-07 20:43:31,524 : INFO : EPOCH 5 - PROGRESS: at 66.19% examples, 1060274 words/s, in_qsize 19, out_qsize 0\n",
            "2023-03-07 20:43:32,528 : INFO : EPOCH 5 - PROGRESS: at 69.86% examples, 1061979 words/s, in_qsize 19, out_qsize 0\n",
            "2023-03-07 20:43:33,532 : INFO : EPOCH 5 - PROGRESS: at 73.56% examples, 1063055 words/s, in_qsize 19, out_qsize 0\n",
            "2023-03-07 20:43:34,535 : INFO : EPOCH 5 - PROGRESS: at 76.95% examples, 1063094 words/s, in_qsize 19, out_qsize 0\n",
            "2023-03-07 20:43:35,538 : INFO : EPOCH 5 - PROGRESS: at 80.42% examples, 1063618 words/s, in_qsize 19, out_qsize 0\n",
            "2023-03-07 20:43:36,551 : INFO : EPOCH 5 - PROGRESS: at 84.04% examples, 1064312 words/s, in_qsize 19, out_qsize 0\n",
            "2023-03-07 20:43:37,560 : INFO : EPOCH 5 - PROGRESS: at 87.83% examples, 1065652 words/s, in_qsize 19, out_qsize 0\n"
          ]
        },
        {
          "name": "stderr",
          "output_type": "stream",
          "text": [
            "2023-03-07 20:43:38,561 : INFO : EPOCH 5 - PROGRESS: at 91.60% examples, 1066059 words/s, in_qsize 18, out_qsize 1\n",
            "2023-03-07 20:43:39,566 : INFO : EPOCH 5 - PROGRESS: at 95.34% examples, 1066716 words/s, in_qsize 18, out_qsize 1\n",
            "2023-03-07 20:43:40,572 : INFO : EPOCH 5 - PROGRESS: at 99.00% examples, 1066474 words/s, in_qsize 19, out_qsize 0\n",
            "2023-03-07 20:43:40,768 : INFO : worker thread finished; awaiting finish of 9 more threads\n",
            "2023-03-07 20:43:40,778 : INFO : worker thread finished; awaiting finish of 8 more threads\n",
            "2023-03-07 20:43:40,785 : INFO : worker thread finished; awaiting finish of 7 more threads\n",
            "2023-03-07 20:43:40,792 : INFO : worker thread finished; awaiting finish of 6 more threads\n",
            "2023-03-07 20:43:40,800 : INFO : worker thread finished; awaiting finish of 5 more threads\n",
            "2023-03-07 20:43:40,808 : INFO : worker thread finished; awaiting finish of 4 more threads\n",
            "2023-03-07 20:43:40,809 : INFO : worker thread finished; awaiting finish of 3 more threads\n",
            "2023-03-07 20:43:40,811 : INFO : worker thread finished; awaiting finish of 2 more threads\n",
            "2023-03-07 20:43:40,813 : INFO : worker thread finished; awaiting finish of 1 more threads\n",
            "2023-03-07 20:43:40,817 : INFO : worker thread finished; awaiting finish of 0 more threads\n",
            "2023-03-07 20:43:40,817 : INFO : EPOCH - 5 : training on 41519359 raw words (30347935 effective words) took 28.4s, 1067328 effective words/s\n",
            "2023-03-07 20:43:40,818 : INFO : Word2Vec lifecycle event {'msg': 'training on 207596795 raw words (151750443 effective words) took 139.1s, 1090871 effective words/s', 'datetime': '2023-03-07T20:43:40.818261', 'gensim': '4.1.2', 'python': '3.9.12 (main, Apr  4 2022, 05:22:27) [MSC v.1916 64 bit (AMD64)]', 'platform': 'Windows-10-10.0.19045-SP0', 'event': 'train'}\n",
            "2023-03-07 20:43:40,820 : INFO : Word2Vec lifecycle event {'params': 'Word2Vec(vocab=70537, vector_size=150, alpha=0.025)', 'datetime': '2023-03-07T20:43:40.820258', 'gensim': '4.1.2', 'python': '3.9.12 (main, Apr  4 2022, 05:22:27) [MSC v.1916 64 bit (AMD64)]', 'platform': 'Windows-10-10.0.19045-SP0', 'event': 'created'}\n",
            "2023-03-07 20:43:40,821 : WARNING : Effective 'alpha' higher than previous training cycles\n",
            "2023-03-07 20:43:40,822 : INFO : Word2Vec lifecycle event {'msg': 'training model with 10 workers on 70537 vocabulary and 150 features, using sg=0 hs=0 sample=0.001 negative=5 window=10 shrink_windows=True', 'datetime': '2023-03-07T20:43:40.822250', 'gensim': '4.1.2', 'python': '3.9.12 (main, Apr  4 2022, 05:22:27) [MSC v.1916 64 bit (AMD64)]', 'platform': 'Windows-10-10.0.19045-SP0', 'event': 'train'}\n",
            "2023-03-07 20:43:41,838 : INFO : EPOCH 1 - PROGRESS: at 3.32% examples, 1025475 words/s, in_qsize 19, out_qsize 0\n",
            "2023-03-07 20:43:42,842 : INFO : EPOCH 1 - PROGRESS: at 6.87% examples, 1050717 words/s, in_qsize 19, out_qsize 0\n",
            "2023-03-07 20:43:43,844 : INFO : EPOCH 1 - PROGRESS: at 10.11% examples, 1068828 words/s, in_qsize 18, out_qsize 1\n",
            "2023-03-07 20:43:44,849 : INFO : EPOCH 1 - PROGRESS: at 13.08% examples, 1073553 words/s, in_qsize 19, out_qsize 0\n",
            "2023-03-07 20:43:45,851 : INFO : EPOCH 1 - PROGRESS: at 16.24% examples, 1074482 words/s, in_qsize 19, out_qsize 0\n",
            "2023-03-07 20:43:46,852 : INFO : EPOCH 1 - PROGRESS: at 19.20% examples, 1078563 words/s, in_qsize 19, out_qsize 0\n",
            "2023-03-07 20:43:47,860 : INFO : EPOCH 1 - PROGRESS: at 22.26% examples, 1076856 words/s, in_qsize 19, out_qsize 0\n",
            "2023-03-07 20:43:48,867 : INFO : EPOCH 1 - PROGRESS: at 25.36% examples, 1080689 words/s, in_qsize 19, out_qsize 0\n",
            "2023-03-07 20:43:49,876 : INFO : EPOCH 1 - PROGRESS: at 29.40% examples, 1082215 words/s, in_qsize 19, out_qsize 0\n",
            "2023-03-07 20:43:50,876 : INFO : EPOCH 1 - PROGRESS: at 33.33% examples, 1082840 words/s, in_qsize 19, out_qsize 0\n",
            "2023-03-07 20:43:51,888 : INFO : EPOCH 1 - PROGRESS: at 37.10% examples, 1083703 words/s, in_qsize 19, out_qsize 0\n",
            "2023-03-07 20:43:52,895 : INFO : EPOCH 1 - PROGRESS: at 40.96% examples, 1082744 words/s, in_qsize 19, out_qsize 0\n",
            "2023-03-07 20:43:53,903 : INFO : EPOCH 1 - PROGRESS: at 45.05% examples, 1084246 words/s, in_qsize 19, out_qsize 0\n",
            "2023-03-07 20:43:54,905 : INFO : EPOCH 1 - PROGRESS: at 48.84% examples, 1084350 words/s, in_qsize 18, out_qsize 1\n",
            "2023-03-07 20:43:55,914 : INFO : EPOCH 1 - PROGRESS: at 52.60% examples, 1085205 words/s, in_qsize 19, out_qsize 0\n",
            "2023-03-07 20:43:56,922 : INFO : EPOCH 1 - PROGRESS: at 56.34% examples, 1085443 words/s, in_qsize 19, out_qsize 0\n",
            "2023-03-07 20:43:57,928 : INFO : EPOCH 1 - PROGRESS: at 60.02% examples, 1084176 words/s, in_qsize 19, out_qsize 0\n",
            "2023-03-07 20:43:58,954 : INFO : EPOCH 1 - PROGRESS: at 63.96% examples, 1083460 words/s, in_qsize 19, out_qsize 0\n",
            "2023-03-07 20:43:59,955 : INFO : EPOCH 1 - PROGRESS: at 67.76% examples, 1085346 words/s, in_qsize 19, out_qsize 0\n",
            "2023-03-07 20:44:00,958 : INFO : EPOCH 1 - PROGRESS: at 71.22% examples, 1084621 words/s, in_qsize 19, out_qsize 0\n",
            "2023-03-07 20:44:01,960 : INFO : EPOCH 1 - PROGRESS: at 75.00% examples, 1084931 words/s, in_qsize 20, out_qsize 1\n",
            "2023-03-07 20:44:02,963 : INFO : EPOCH 1 - PROGRESS: at 78.38% examples, 1084622 words/s, in_qsize 19, out_qsize 0\n",
            "2023-03-07 20:44:03,971 : INFO : EPOCH 1 - PROGRESS: at 81.97% examples, 1084632 words/s, in_qsize 18, out_qsize 1\n",
            "2023-03-07 20:44:04,973 : INFO : EPOCH 1 - PROGRESS: at 85.48% examples, 1084828 words/s, in_qsize 19, out_qsize 0\n",
            "2023-03-07 20:44:05,986 : INFO : EPOCH 1 - PROGRESS: at 89.43% examples, 1084784 words/s, in_qsize 18, out_qsize 1\n",
            "2023-03-07 20:44:06,988 : INFO : EPOCH 1 - PROGRESS: at 93.18% examples, 1085173 words/s, in_qsize 19, out_qsize 0\n",
            "2023-03-07 20:44:08,012 : INFO : EPOCH 1 - PROGRESS: at 96.94% examples, 1084372 words/s, in_qsize 19, out_qsize 0\n",
            "2023-03-07 20:44:08,742 : INFO : worker thread finished; awaiting finish of 9 more threads\n",
            "2023-03-07 20:44:08,760 : INFO : worker thread finished; awaiting finish of 8 more threads\n",
            "2023-03-07 20:44:08,779 : INFO : worker thread finished; awaiting finish of 7 more threads\n",
            "2023-03-07 20:44:08,781 : INFO : worker thread finished; awaiting finish of 6 more threads\n",
            "2023-03-07 20:44:08,784 : INFO : worker thread finished; awaiting finish of 5 more threads\n",
            "2023-03-07 20:44:08,787 : INFO : worker thread finished; awaiting finish of 4 more threads\n",
            "2023-03-07 20:44:08,795 : INFO : worker thread finished; awaiting finish of 3 more threads\n",
            "2023-03-07 20:44:08,797 : INFO : worker thread finished; awaiting finish of 2 more threads\n",
            "2023-03-07 20:44:08,802 : INFO : worker thread finished; awaiting finish of 1 more threads\n",
            "2023-03-07 20:44:08,805 : INFO : worker thread finished; awaiting finish of 0 more threads\n",
            "2023-03-07 20:44:08,806 : INFO : EPOCH - 1 : training on 41519359 raw words (30348580 effective words) took 28.0s, 1084898 effective words/s\n",
            "2023-03-07 20:44:09,832 : INFO : EPOCH 2 - PROGRESS: at 3.36% examples, 1028688 words/s, in_qsize 19, out_qsize 1\n",
            "2023-03-07 20:44:10,837 : INFO : EPOCH 2 - PROGRESS: at 7.03% examples, 1069912 words/s, in_qsize 18, out_qsize 1\n",
            "2023-03-07 20:44:11,837 : INFO : EPOCH 2 - PROGRESS: at 10.12% examples, 1067555 words/s, in_qsize 19, out_qsize 0\n",
            "2023-03-07 20:44:12,850 : INFO : EPOCH 2 - PROGRESS: at 13.11% examples, 1070624 words/s, in_qsize 19, out_qsize 0\n",
            "2023-03-07 20:44:13,857 : INFO : EPOCH 2 - PROGRESS: at 16.27% examples, 1072432 words/s, in_qsize 19, out_qsize 0\n",
            "2023-03-07 20:44:14,859 : INFO : EPOCH 2 - PROGRESS: at 19.20% examples, 1074050 words/s, in_qsize 19, out_qsize 0\n",
            "2023-03-07 20:44:15,869 : INFO : EPOCH 2 - PROGRESS: at 22.33% examples, 1076665 words/s, in_qsize 18, out_qsize 1\n",
            "2023-03-07 20:44:16,869 : INFO : EPOCH 2 - PROGRESS: at 25.36% examples, 1077867 words/s, in_qsize 19, out_qsize 0\n",
            "2023-03-07 20:44:17,886 : INFO : EPOCH 2 - PROGRESS: at 29.30% examples, 1075593 words/s, in_qsize 19, out_qsize 0\n",
            "2023-03-07 20:44:18,891 : INFO : EPOCH 2 - PROGRESS: at 33.28% examples, 1077654 words/s, in_qsize 19, out_qsize 0\n",
            "2023-03-07 20:44:19,893 : INFO : EPOCH 2 - PROGRESS: at 37.01% examples, 1078612 words/s, in_qsize 20, out_qsize 1\n",
            "2023-03-07 20:44:20,897 : INFO : EPOCH 2 - PROGRESS: at 40.87% examples, 1079105 words/s, in_qsize 18, out_qsize 1\n",
            "2023-03-07 20:44:21,902 : INFO : EPOCH 2 - PROGRESS: at 44.89% examples, 1078809 words/s, in_qsize 19, out_qsize 0\n"
          ]
        },
        {
          "name": "stderr",
          "output_type": "stream",
          "text": [
            "2023-03-07 20:44:22,903 : INFO : EPOCH 2 - PROGRESS: at 48.61% examples, 1078876 words/s, in_qsize 19, out_qsize 0\n",
            "2023-03-07 20:44:23,913 : INFO : EPOCH 2 - PROGRESS: at 52.11% examples, 1073859 words/s, in_qsize 19, out_qsize 0\n",
            "2023-03-07 20:44:24,916 : INFO : EPOCH 2 - PROGRESS: at 55.75% examples, 1073677 words/s, in_qsize 18, out_qsize 1\n",
            "2023-03-07 20:44:25,918 : INFO : EPOCH 2 - PROGRESS: at 59.59% examples, 1075855 words/s, in_qsize 19, out_qsize 0\n",
            "2023-03-07 20:44:26,927 : INFO : EPOCH 2 - PROGRESS: at 63.41% examples, 1076243 words/s, in_qsize 18, out_qsize 1\n",
            "2023-03-07 20:44:27,938 : INFO : EPOCH 2 - PROGRESS: at 67.16% examples, 1076096 words/s, in_qsize 17, out_qsize 2\n",
            "2023-03-07 20:44:28,951 : INFO : EPOCH 2 - PROGRESS: at 70.74% examples, 1076293 words/s, in_qsize 19, out_qsize 0\n",
            "2023-03-07 20:44:29,964 : INFO : EPOCH 2 - PROGRESS: at 74.47% examples, 1075865 words/s, in_qsize 19, out_qsize 0\n",
            "2023-03-07 20:44:30,976 : INFO : EPOCH 2 - PROGRESS: at 77.92% examples, 1076454 words/s, in_qsize 20, out_qsize 0\n",
            "2023-03-07 20:44:31,984 : INFO : EPOCH 2 - PROGRESS: at 81.17% examples, 1073140 words/s, in_qsize 19, out_qsize 0\n",
            "2023-03-07 20:44:32,987 : INFO : EPOCH 2 - PROGRESS: at 84.51% examples, 1070523 words/s, in_qsize 18, out_qsize 1\n",
            "2023-03-07 20:44:34,005 : INFO : EPOCH 2 - PROGRESS: at 88.07% examples, 1067877 words/s, in_qsize 19, out_qsize 0\n",
            "2023-03-07 20:44:35,012 : INFO : EPOCH 2 - PROGRESS: at 91.74% examples, 1066584 words/s, in_qsize 19, out_qsize 0\n",
            "2023-03-07 20:44:36,012 : INFO : EPOCH 2 - PROGRESS: at 95.15% examples, 1064222 words/s, in_qsize 17, out_qsize 2\n",
            "2023-03-07 20:44:37,015 : INFO : EPOCH 2 - PROGRESS: at 98.81% examples, 1063912 words/s, in_qsize 19, out_qsize 0\n",
            "2023-03-07 20:44:37,268 : INFO : worker thread finished; awaiting finish of 9 more threads\n",
            "2023-03-07 20:44:37,284 : INFO : worker thread finished; awaiting finish of 8 more threads\n",
            "2023-03-07 20:44:37,286 : INFO : worker thread finished; awaiting finish of 7 more threads\n",
            "2023-03-07 20:44:37,288 : INFO : worker thread finished; awaiting finish of 6 more threads\n",
            "2023-03-07 20:44:37,289 : INFO : worker thread finished; awaiting finish of 5 more threads\n",
            "2023-03-07 20:44:37,290 : INFO : worker thread finished; awaiting finish of 4 more threads\n",
            "2023-03-07 20:44:37,291 : INFO : worker thread finished; awaiting finish of 3 more threads\n",
            "2023-03-07 20:44:37,297 : INFO : worker thread finished; awaiting finish of 2 more threads\n",
            "2023-03-07 20:44:37,301 : INFO : worker thread finished; awaiting finish of 1 more threads\n",
            "2023-03-07 20:44:37,310 : INFO : worker thread finished; awaiting finish of 0 more threads\n",
            "2023-03-07 20:44:37,311 : INFO : EPOCH - 2 : training on 41519359 raw words (30345157 effective words) took 28.5s, 1064894 effective words/s\n",
            "2023-03-07 20:44:38,324 : INFO : EPOCH 3 - PROGRESS: at 3.34% examples, 1034454 words/s, in_qsize 19, out_qsize 0\n",
            "2023-03-07 20:44:39,329 : INFO : EPOCH 3 - PROGRESS: at 6.89% examples, 1054229 words/s, in_qsize 19, out_qsize 0\n",
            "2023-03-07 20:44:40,330 : INFO : EPOCH 3 - PROGRESS: at 10.11% examples, 1069199 words/s, in_qsize 18, out_qsize 1\n",
            "2023-03-07 20:44:41,331 : INFO : EPOCH 3 - PROGRESS: at 13.05% examples, 1073138 words/s, in_qsize 17, out_qsize 2\n",
            "2023-03-07 20:44:42,336 : INFO : EPOCH 3 - PROGRESS: at 16.23% examples, 1073730 words/s, in_qsize 18, out_qsize 1\n",
            "2023-03-07 20:44:43,336 : INFO : EPOCH 3 - PROGRESS: at 19.15% examples, 1075631 words/s, in_qsize 18, out_qsize 1\n",
            "2023-03-07 20:44:44,336 : INFO : EPOCH 3 - PROGRESS: at 22.22% examples, 1076292 words/s, in_qsize 19, out_qsize 0\n",
            "2023-03-07 20:44:45,337 : INFO : EPOCH 3 - PROGRESS: at 25.25% examples, 1079272 words/s, in_qsize 18, out_qsize 1\n",
            "2023-03-07 20:44:46,338 : INFO : EPOCH 3 - PROGRESS: at 29.14% examples, 1076584 words/s, in_qsize 19, out_qsize 0\n",
            "2023-03-07 20:44:47,341 : INFO : EPOCH 3 - PROGRESS: at 32.78% examples, 1069455 words/s, in_qsize 19, out_qsize 0\n",
            "2023-03-07 20:44:48,351 : INFO : EPOCH 3 - PROGRESS: at 35.67% examples, 1048930 words/s, in_qsize 19, out_qsize 0\n",
            "2023-03-07 20:44:49,354 : INFO : EPOCH 3 - PROGRESS: at 39.42% examples, 1048956 words/s, in_qsize 19, out_qsize 0\n",
            "2023-03-07 20:44:50,357 : INFO : EPOCH 3 - PROGRESS: at 43.36% examples, 1052168 words/s, in_qsize 18, out_qsize 1\n",
            "2023-03-07 20:44:51,357 : INFO : EPOCH 3 - PROGRESS: at 47.25% examples, 1055207 words/s, in_qsize 19, out_qsize 0\n",
            "2023-03-07 20:44:52,363 : INFO : EPOCH 3 - PROGRESS: at 51.01% examples, 1055970 words/s, in_qsize 18, out_qsize 1\n",
            "2023-03-07 20:44:53,376 : INFO : EPOCH 3 - PROGRESS: at 54.65% examples, 1058995 words/s, in_qsize 19, out_qsize 0\n",
            "2023-03-07 20:44:54,381 : INFO : EPOCH 3 - PROGRESS: at 58.51% examples, 1060855 words/s, in_qsize 19, out_qsize 0\n",
            "2023-03-07 20:44:55,381 : INFO : EPOCH 3 - PROGRESS: at 62.29% examples, 1062705 words/s, in_qsize 19, out_qsize 0\n",
            "2023-03-07 20:44:56,388 : INFO : EPOCH 3 - PROGRESS: at 66.19% examples, 1064345 words/s, in_qsize 19, out_qsize 0\n",
            "2023-03-07 20:44:57,391 : INFO : EPOCH 3 - PROGRESS: at 69.87% examples, 1065954 words/s, in_qsize 19, out_qsize 0\n",
            "2023-03-07 20:44:58,391 : INFO : EPOCH 3 - PROGRESS: at 73.56% examples, 1067034 words/s, in_qsize 19, out_qsize 0\n",
            "2023-03-07 20:44:59,402 : INFO : EPOCH 3 - PROGRESS: at 77.01% examples, 1067120 words/s, in_qsize 18, out_qsize 1\n",
            "2023-03-07 20:45:00,405 : INFO : EPOCH 3 - PROGRESS: at 80.39% examples, 1066286 words/s, in_qsize 19, out_qsize 0\n",
            "2023-03-07 20:45:01,410 : INFO : EPOCH 3 - PROGRESS: at 83.83% examples, 1065085 words/s, in_qsize 18, out_qsize 1\n",
            "2023-03-07 20:45:02,415 : INFO : EPOCH 3 - PROGRESS: at 87.35% examples, 1064271 words/s, in_qsize 19, out_qsize 0\n",
            "2023-03-07 20:45:03,417 : INFO : EPOCH 3 - PROGRESS: at 90.82% examples, 1060552 words/s, in_qsize 19, out_qsize 0\n",
            "2023-03-07 20:45:04,416 : INFO : EPOCH 3 - PROGRESS: at 94.28% examples, 1058952 words/s, in_qsize 19, out_qsize 0\n",
            "2023-03-07 20:45:05,417 : INFO : EPOCH 3 - PROGRESS: at 97.94% examples, 1059163 words/s, in_qsize 18, out_qsize 1\n",
            "2023-03-07 20:45:05,897 : INFO : worker thread finished; awaiting finish of 9 more threads\n",
            "2023-03-07 20:45:05,899 : INFO : worker thread finished; awaiting finish of 8 more threads\n",
            "2023-03-07 20:45:05,905 : INFO : worker thread finished; awaiting finish of 7 more threads\n",
            "2023-03-07 20:45:05,913 : INFO : worker thread finished; awaiting finish of 6 more threads\n",
            "2023-03-07 20:45:05,925 : INFO : worker thread finished; awaiting finish of 5 more threads\n",
            "2023-03-07 20:45:05,929 : INFO : worker thread finished; awaiting finish of 4 more threads\n",
            "2023-03-07 20:45:05,931 : INFO : worker thread finished; awaiting finish of 3 more threads\n",
            "2023-03-07 20:45:05,932 : INFO : worker thread finished; awaiting finish of 2 more threads\n",
            "2023-03-07 20:45:05,937 : INFO : worker thread finished; awaiting finish of 1 more threads\n",
            "2023-03-07 20:45:05,944 : INFO : worker thread finished; awaiting finish of 0 more threads\n",
            "2023-03-07 20:45:05,945 : INFO : EPOCH - 3 : training on 41519359 raw words (30349455 effective words) took 28.6s, 1060196 effective words/s\n",
            "2023-03-07 20:45:06,958 : INFO : EPOCH 4 - PROGRESS: at 3.36% examples, 1042904 words/s, in_qsize 17, out_qsize 2\n",
            "2023-03-07 20:45:07,968 : INFO : EPOCH 4 - PROGRESS: at 7.00% examples, 1070810 words/s, in_qsize 18, out_qsize 1\n",
            "2023-03-07 20:45:08,971 : INFO : EPOCH 4 - PROGRESS: at 10.19% examples, 1081664 words/s, in_qsize 19, out_qsize 0\n",
            "2023-03-07 20:45:09,975 : INFO : EPOCH 4 - PROGRESS: at 13.21% examples, 1081570 words/s, in_qsize 19, out_qsize 0\n",
            "2023-03-07 20:45:10,979 : INFO : EPOCH 4 - PROGRESS: at 16.33% examples, 1080718 words/s, in_qsize 19, out_qsize 0\n",
            "2023-03-07 20:45:11,990 : INFO : EPOCH 4 - PROGRESS: at 19.17% examples, 1073402 words/s, in_qsize 19, out_qsize 0\n",
            "2023-03-07 20:45:12,999 : INFO : EPOCH 4 - PROGRESS: at 22.13% examples, 1066975 words/s, in_qsize 19, out_qsize 0\n",
            "2023-03-07 20:45:14,004 : INFO : EPOCH 4 - PROGRESS: at 25.03% examples, 1067097 words/s, in_qsize 19, out_qsize 0\n",
            "2023-03-07 20:45:15,011 : INFO : EPOCH 4 - PROGRESS: at 28.82% examples, 1062478 words/s, in_qsize 18, out_qsize 1\n",
            "2023-03-07 20:45:16,019 : INFO : EPOCH 4 - PROGRESS: at 32.04% examples, 1044135 words/s, in_qsize 19, out_qsize 0\n"
          ]
        },
        {
          "name": "stderr",
          "output_type": "stream",
          "text": [
            "2023-03-07 20:45:17,020 : INFO : EPOCH 4 - PROGRESS: at 35.62% examples, 1044410 words/s, in_qsize 19, out_qsize 0\n",
            "2023-03-07 20:45:18,028 : INFO : EPOCH 4 - PROGRESS: at 39.28% examples, 1041895 words/s, in_qsize 18, out_qsize 1\n",
            "2023-03-07 20:45:19,032 : INFO : EPOCH 4 - PROGRESS: at 42.90% examples, 1039551 words/s, in_qsize 19, out_qsize 0\n",
            "2023-03-07 20:45:20,046 : INFO : EPOCH 4 - PROGRESS: at 46.68% examples, 1038921 words/s, in_qsize 18, out_qsize 1\n",
            "2023-03-07 20:45:21,059 : INFO : EPOCH 4 - PROGRESS: at 50.25% examples, 1037049 words/s, in_qsize 20, out_qsize 1\n",
            "2023-03-07 20:45:22,061 : INFO : EPOCH 4 - PROGRESS: at 53.56% examples, 1035873 words/s, in_qsize 18, out_qsize 1\n",
            "2023-03-07 20:45:23,063 : INFO : EPOCH 4 - PROGRESS: at 57.21% examples, 1034851 words/s, in_qsize 16, out_qsize 3\n",
            "2023-03-07 20:45:24,075 : INFO : EPOCH 4 - PROGRESS: at 60.72% examples, 1033855 words/s, in_qsize 18, out_qsize 1\n",
            "2023-03-07 20:45:25,079 : INFO : EPOCH 4 - PROGRESS: at 64.51% examples, 1033905 words/s, in_qsize 19, out_qsize 0\n",
            "2023-03-07 20:45:26,080 : INFO : EPOCH 4 - PROGRESS: at 67.96% examples, 1034148 words/s, in_qsize 19, out_qsize 0\n",
            "2023-03-07 20:45:27,088 : INFO : EPOCH 4 - PROGRESS: at 71.34% examples, 1034282 words/s, in_qsize 18, out_qsize 1\n",
            "2023-03-07 20:45:28,092 : INFO : EPOCH 4 - PROGRESS: at 74.96% examples, 1034875 words/s, in_qsize 18, out_qsize 1\n",
            "2023-03-07 20:45:29,094 : INFO : EPOCH 4 - PROGRESS: at 78.17% examples, 1034566 words/s, in_qsize 19, out_qsize 0\n",
            "2023-03-07 20:45:30,096 : INFO : EPOCH 4 - PROGRESS: at 81.63% examples, 1035814 words/s, in_qsize 18, out_qsize 1\n",
            "2023-03-07 20:45:31,114 : INFO : EPOCH 4 - PROGRESS: at 85.17% examples, 1037068 words/s, in_qsize 18, out_qsize 1\n",
            "2023-03-07 20:45:32,121 : INFO : EPOCH 4 - PROGRESS: at 88.99% examples, 1037954 words/s, in_qsize 19, out_qsize 0\n",
            "2023-03-07 20:45:33,126 : INFO : EPOCH 4 - PROGRESS: at 92.78% examples, 1039936 words/s, in_qsize 19, out_qsize 0\n",
            "2023-03-07 20:45:34,130 : INFO : EPOCH 4 - PROGRESS: at 96.46% examples, 1041066 words/s, in_qsize 18, out_qsize 1\n",
            "2023-03-07 20:45:35,004 : INFO : worker thread finished; awaiting finish of 9 more threads\n",
            "2023-03-07 20:45:35,010 : INFO : worker thread finished; awaiting finish of 8 more threads\n",
            "2023-03-07 20:45:35,015 : INFO : worker thread finished; awaiting finish of 7 more threads\n",
            "2023-03-07 20:45:35,017 : INFO : worker thread finished; awaiting finish of 6 more threads\n",
            "2023-03-07 20:45:35,023 : INFO : worker thread finished; awaiting finish of 5 more threads\n",
            "2023-03-07 20:45:35,036 : INFO : worker thread finished; awaiting finish of 4 more threads\n",
            "2023-03-07 20:45:35,038 : INFO : worker thread finished; awaiting finish of 3 more threads\n",
            "2023-03-07 20:45:35,047 : INFO : worker thread finished; awaiting finish of 2 more threads\n",
            "2023-03-07 20:45:35,048 : INFO : worker thread finished; awaiting finish of 1 more threads\n",
            "2023-03-07 20:45:35,053 : INFO : worker thread finished; awaiting finish of 0 more threads\n",
            "2023-03-07 20:45:35,054 : INFO : EPOCH - 4 : training on 41519359 raw words (30351503 effective words) took 29.1s, 1043022 effective words/s\n",
            "2023-03-07 20:45:36,068 : INFO : EPOCH 5 - PROGRESS: at 3.32% examples, 1026856 words/s, in_qsize 19, out_qsize 0\n",
            "2023-03-07 20:45:37,084 : INFO : EPOCH 5 - PROGRESS: at 6.91% examples, 1052082 words/s, in_qsize 19, out_qsize 0\n",
            "2023-03-07 20:45:38,092 : INFO : EPOCH 5 - PROGRESS: at 9.92% examples, 1043338 words/s, in_qsize 19, out_qsize 0\n",
            "2023-03-07 20:45:39,095 : INFO : EPOCH 5 - PROGRESS: at 12.62% examples, 1033779 words/s, in_qsize 20, out_qsize 1\n",
            "2023-03-07 20:45:40,100 : INFO : EPOCH 5 - PROGRESS: at 15.76% examples, 1034775 words/s, in_qsize 19, out_qsize 0\n",
            "2023-03-07 20:45:41,109 : INFO : EPOCH 5 - PROGRESS: at 17.92% examples, 995466 words/s, in_qsize 19, out_qsize 0\n",
            "2023-03-07 20:45:42,112 : INFO : EPOCH 5 - PROGRESS: at 19.85% examples, 957476 words/s, in_qsize 19, out_qsize 0\n",
            "2023-03-07 20:45:43,138 : INFO : EPOCH 5 - PROGRESS: at 22.63% examples, 954789 words/s, in_qsize 19, out_qsize 0\n",
            "2023-03-07 20:45:44,167 : INFO : EPOCH 5 - PROGRESS: at 25.24% examples, 949509 words/s, in_qsize 19, out_qsize 0\n",
            "2023-03-07 20:45:45,171 : INFO : EPOCH 5 - PROGRESS: at 28.33% examples, 938064 words/s, in_qsize 20, out_qsize 0\n",
            "2023-03-07 20:45:46,182 : INFO : EPOCH 5 - PROGRESS: at 31.51% examples, 931345 words/s, in_qsize 18, out_qsize 1\n",
            "2023-03-07 20:45:47,189 : INFO : EPOCH 5 - PROGRESS: at 34.67% examples, 930248 words/s, in_qsize 19, out_qsize 0\n",
            "2023-03-07 20:45:48,193 : INFO : EPOCH 5 - PROGRESS: at 38.10% examples, 933719 words/s, in_qsize 19, out_qsize 0\n",
            "2023-03-07 20:45:49,195 : INFO : EPOCH 5 - PROGRESS: at 42.11% examples, 945058 words/s, in_qsize 18, out_qsize 1\n",
            "2023-03-07 20:45:50,215 : INFO : EPOCH 5 - PROGRESS: at 46.05% examples, 953237 words/s, in_qsize 19, out_qsize 0\n",
            "2023-03-07 20:45:51,226 : INFO : EPOCH 5 - PROGRESS: at 49.86% examples, 962241 words/s, in_qsize 19, out_qsize 0\n",
            "2023-03-07 20:45:52,230 : INFO : EPOCH 5 - PROGRESS: at 53.27% examples, 966233 words/s, in_qsize 19, out_qsize 0\n",
            "2023-03-07 20:45:53,237 : INFO : EPOCH 5 - PROGRESS: at 56.58% examples, 964858 words/s, in_qsize 19, out_qsize 0\n",
            "2023-03-07 20:45:54,240 : INFO : EPOCH 5 - PROGRESS: at 60.12% examples, 967938 words/s, in_qsize 19, out_qsize 0\n",
            "2023-03-07 20:45:55,246 : INFO : EPOCH 5 - PROGRESS: at 63.50% examples, 967003 words/s, in_qsize 16, out_qsize 3\n",
            "2023-03-07 20:45:56,254 : INFO : EPOCH 5 - PROGRESS: at 66.65% examples, 964368 words/s, in_qsize 18, out_qsize 1\n",
            "2023-03-07 20:45:57,276 : INFO : EPOCH 5 - PROGRESS: at 69.23% examples, 954278 words/s, in_qsize 19, out_qsize 0\n",
            "2023-03-07 20:45:58,283 : INFO : EPOCH 5 - PROGRESS: at 72.30% examples, 953579 words/s, in_qsize 19, out_qsize 0\n",
            "2023-03-07 20:45:59,290 : INFO : EPOCH 5 - PROGRESS: at 75.46% examples, 952072 words/s, in_qsize 18, out_qsize 1\n",
            "2023-03-07 20:46:00,303 : INFO : EPOCH 5 - PROGRESS: at 78.58% examples, 953413 words/s, in_qsize 19, out_qsize 0\n",
            "2023-03-07 20:46:01,303 : INFO : EPOCH 5 - PROGRESS: at 81.95% examples, 956036 words/s, in_qsize 19, out_qsize 0\n",
            "2023-03-07 20:46:02,349 : INFO : EPOCH 5 - PROGRESS: at 84.77% examples, 951240 words/s, in_qsize 20, out_qsize 0\n",
            "2023-03-07 20:46:03,352 : INFO : EPOCH 5 - PROGRESS: at 88.14% examples, 951649 words/s, in_qsize 19, out_qsize 0\n",
            "2023-03-07 20:46:04,355 : INFO : EPOCH 5 - PROGRESS: at 91.43% examples, 950915 words/s, in_qsize 19, out_qsize 0\n",
            "2023-03-07 20:46:05,357 : INFO : EPOCH 5 - PROGRESS: at 94.73% examples, 951614 words/s, in_qsize 19, out_qsize 0\n",
            "2023-03-07 20:46:06,367 : INFO : EPOCH 5 - PROGRESS: at 98.37% examples, 954746 words/s, in_qsize 19, out_qsize 0\n",
            "2023-03-07 20:46:06,744 : INFO : worker thread finished; awaiting finish of 9 more threads\n",
            "2023-03-07 20:46:06,748 : INFO : worker thread finished; awaiting finish of 8 more threads\n",
            "2023-03-07 20:46:06,751 : INFO : worker thread finished; awaiting finish of 7 more threads\n",
            "2023-03-07 20:46:06,753 : INFO : worker thread finished; awaiting finish of 6 more threads\n",
            "2023-03-07 20:46:06,766 : INFO : worker thread finished; awaiting finish of 5 more threads\n",
            "2023-03-07 20:46:06,769 : INFO : worker thread finished; awaiting finish of 4 more threads\n",
            "2023-03-07 20:46:06,773 : INFO : worker thread finished; awaiting finish of 3 more threads\n",
            "2023-03-07 20:46:06,779 : INFO : worker thread finished; awaiting finish of 2 more threads\n",
            "2023-03-07 20:46:06,783 : INFO : worker thread finished; awaiting finish of 1 more threads\n",
            "2023-03-07 20:46:06,787 : INFO : worker thread finished; awaiting finish of 0 more threads\n",
            "2023-03-07 20:46:06,788 : INFO : EPOCH - 5 : training on 41519359 raw words (30346658 effective words) took 31.7s, 956543 effective words/s\n",
            "2023-03-07 20:46:07,798 : INFO : EPOCH 6 - PROGRESS: at 3.23% examples, 1001912 words/s, in_qsize 17, out_qsize 2\n",
            "2023-03-07 20:46:08,818 : INFO : EPOCH 6 - PROGRESS: at 6.38% examples, 973941 words/s, in_qsize 17, out_qsize 2\n",
            "2023-03-07 20:46:09,821 : INFO : EPOCH 6 - PROGRESS: at 9.58% examples, 992985 words/s, in_qsize 19, out_qsize 0\n",
            "2023-03-07 20:46:10,833 : INFO : EPOCH 6 - PROGRESS: at 12.10% examples, 984497 words/s, in_qsize 19, out_qsize 0\n",
            "2023-03-07 20:46:11,843 : INFO : EPOCH 6 - PROGRESS: at 14.96% examples, 983030 words/s, in_qsize 19, out_qsize 0\n"
          ]
        },
        {
          "name": "stderr",
          "output_type": "stream",
          "text": [
            "2023-03-07 20:46:12,858 : INFO : EPOCH 6 - PROGRESS: at 17.71% examples, 981341 words/s, in_qsize 19, out_qsize 0\n",
            "2023-03-07 20:46:13,876 : INFO : EPOCH 6 - PROGRESS: at 20.35% examples, 981126 words/s, in_qsize 19, out_qsize 0\n",
            "2023-03-07 20:46:14,879 : INFO : EPOCH 6 - PROGRESS: at 23.41% examples, 992680 words/s, in_qsize 19, out_qsize 0\n",
            "2023-03-07 20:46:15,879 : INFO : EPOCH 6 - PROGRESS: at 26.70% examples, 995894 words/s, in_qsize 19, out_qsize 0\n",
            "2023-03-07 20:46:16,891 : INFO : EPOCH 6 - PROGRESS: at 30.56% examples, 1002636 words/s, in_qsize 18, out_qsize 1\n",
            "2023-03-07 20:46:17,893 : INFO : EPOCH 6 - PROGRESS: at 33.91% examples, 997877 words/s, in_qsize 19, out_qsize 0\n",
            "2023-03-07 20:46:18,908 : INFO : EPOCH 6 - PROGRESS: at 36.93% examples, 985123 words/s, in_qsize 19, out_qsize 0\n",
            "2023-03-07 20:46:19,910 : INFO : EPOCH 6 - PROGRESS: at 40.30% examples, 981787 words/s, in_qsize 19, out_qsize 0\n",
            "2023-03-07 20:46:20,920 : INFO : EPOCH 6 - PROGRESS: at 43.71% examples, 978062 words/s, in_qsize 20, out_qsize 0\n",
            "2023-03-07 20:46:21,939 : INFO : EPOCH 6 - PROGRESS: at 47.25% examples, 978353 words/s, in_qsize 19, out_qsize 0\n",
            "2023-03-07 20:46:22,940 : INFO : EPOCH 6 - PROGRESS: at 50.90% examples, 981944 words/s, in_qsize 19, out_qsize 0\n",
            "2023-03-07 20:46:23,944 : INFO : EPOCH 6 - PROGRESS: at 54.37% examples, 986568 words/s, in_qsize 19, out_qsize 0\n",
            "2023-03-07 20:46:24,966 : INFO : EPOCH 6 - PROGRESS: at 58.23% examples, 991483 words/s, in_qsize 18, out_qsize 1\n",
            "2023-03-07 20:46:25,968 : INFO : EPOCH 6 - PROGRESS: at 61.96% examples, 996330 words/s, in_qsize 18, out_qsize 1\n",
            "2023-03-07 20:46:26,969 : INFO : EPOCH 6 - PROGRESS: at 65.87% examples, 1001539 words/s, in_qsize 19, out_qsize 0\n",
            "2023-03-07 20:46:27,973 : INFO : EPOCH 6 - PROGRESS: at 69.51% examples, 1005579 words/s, in_qsize 19, out_qsize 0\n",
            "2023-03-07 20:46:28,981 : INFO : EPOCH 6 - PROGRESS: at 73.17% examples, 1008975 words/s, in_qsize 19, out_qsize 0\n",
            "2023-03-07 20:46:29,988 : INFO : EPOCH 6 - PROGRESS: at 76.63% examples, 1011105 words/s, in_qsize 18, out_qsize 1\n",
            "2023-03-07 20:46:30,994 : INFO : EPOCH 6 - PROGRESS: at 80.04% examples, 1013125 words/s, in_qsize 19, out_qsize 0\n",
            "2023-03-07 20:46:31,998 : INFO : EPOCH 6 - PROGRESS: at 83.69% examples, 1016480 words/s, in_qsize 19, out_qsize 0\n",
            "2023-03-07 20:46:33,009 : INFO : EPOCH 6 - PROGRESS: at 87.45% examples, 1019772 words/s, in_qsize 19, out_qsize 0\n",
            "2023-03-07 20:46:34,012 : INFO : EPOCH 6 - PROGRESS: at 91.22% examples, 1021522 words/s, in_qsize 18, out_qsize 1\n",
            "2023-03-07 20:46:35,022 : INFO : EPOCH 6 - PROGRESS: at 94.99% examples, 1024082 words/s, in_qsize 18, out_qsize 1\n",
            "2023-03-07 20:46:36,024 : INFO : EPOCH 6 - PROGRESS: at 98.72% examples, 1025935 words/s, in_qsize 18, out_qsize 1\n",
            "2023-03-07 20:46:36,301 : INFO : worker thread finished; awaiting finish of 9 more threads\n",
            "2023-03-07 20:46:36,303 : INFO : worker thread finished; awaiting finish of 8 more threads\n",
            "2023-03-07 20:46:36,308 : INFO : worker thread finished; awaiting finish of 7 more threads\n",
            "2023-03-07 20:46:36,317 : INFO : worker thread finished; awaiting finish of 6 more threads\n",
            "2023-03-07 20:46:36,333 : INFO : worker thread finished; awaiting finish of 5 more threads\n",
            "2023-03-07 20:46:36,335 : INFO : worker thread finished; awaiting finish of 4 more threads\n",
            "2023-03-07 20:46:36,342 : INFO : worker thread finished; awaiting finish of 3 more threads\n",
            "2023-03-07 20:46:36,343 : INFO : worker thread finished; awaiting finish of 2 more threads\n",
            "2023-03-07 20:46:36,344 : INFO : worker thread finished; awaiting finish of 1 more threads\n",
            "2023-03-07 20:46:36,345 : INFO : worker thread finished; awaiting finish of 0 more threads\n",
            "2023-03-07 20:46:36,346 : INFO : EPOCH - 6 : training on 41519359 raw words (30351113 effective words) took 29.6s, 1027084 effective words/s\n",
            "2023-03-07 20:46:37,359 : INFO : EPOCH 7 - PROGRESS: at 3.31% examples, 1028953 words/s, in_qsize 19, out_qsize 0\n",
            "2023-03-07 20:46:38,361 : INFO : EPOCH 7 - PROGRESS: at 6.94% examples, 1064131 words/s, in_qsize 19, out_qsize 0\n",
            "2023-03-07 20:46:39,364 : INFO : EPOCH 7 - PROGRESS: at 10.06% examples, 1065114 words/s, in_qsize 19, out_qsize 0\n",
            "2023-03-07 20:46:40,372 : INFO : EPOCH 7 - PROGRESS: at 12.99% examples, 1066571 words/s, in_qsize 19, out_qsize 0\n",
            "2023-03-07 20:46:41,382 : INFO : EPOCH 7 - PROGRESS: at 16.23% examples, 1071369 words/s, in_qsize 20, out_qsize 0\n",
            "2023-03-07 20:46:42,407 : INFO : EPOCH 7 - PROGRESS: at 19.15% examples, 1070261 words/s, in_qsize 19, out_qsize 2\n",
            "2023-03-07 20:46:43,421 : INFO : EPOCH 7 - PROGRESS: at 22.12% examples, 1063845 words/s, in_qsize 19, out_qsize 0\n",
            "2023-03-07 20:46:44,421 : INFO : EPOCH 7 - PROGRESS: at 24.88% examples, 1060476 words/s, in_qsize 19, out_qsize 0\n",
            "2023-03-07 20:46:45,425 : INFO : EPOCH 7 - PROGRESS: at 28.56% examples, 1052873 words/s, in_qsize 19, out_qsize 0\n",
            "2023-03-07 20:46:46,432 : INFO : EPOCH 7 - PROGRESS: at 32.27% examples, 1049292 words/s, in_qsize 18, out_qsize 1\n",
            "2023-03-07 20:46:47,440 : INFO : EPOCH 7 - PROGRESS: at 35.48% examples, 1039223 words/s, in_qsize 19, out_qsize 0\n",
            "2023-03-07 20:46:48,446 : INFO : EPOCH 7 - PROGRESS: at 38.50% examples, 1022980 words/s, in_qsize 19, out_qsize 0\n",
            "2023-03-07 20:46:49,451 : INFO : EPOCH 7 - PROGRESS: at 42.39% examples, 1026413 words/s, in_qsize 19, out_qsize 0\n",
            "2023-03-07 20:46:50,460 : INFO : EPOCH 7 - PROGRESS: at 46.34% examples, 1030202 words/s, in_qsize 19, out_qsize 0\n",
            "2023-03-07 20:46:51,472 : INFO : EPOCH 7 - PROGRESS: at 50.17% examples, 1034106 words/s, in_qsize 20, out_qsize 1\n",
            "2023-03-07 20:46:52,472 : INFO : EPOCH 7 - PROGRESS: at 53.70% examples, 1037271 words/s, in_qsize 19, out_qsize 0\n",
            "2023-03-07 20:46:53,481 : INFO : EPOCH 7 - PROGRESS: at 57.59% examples, 1040431 words/s, in_qsize 19, out_qsize 0\n",
            "2023-03-07 20:46:54,485 : INFO : EPOCH 7 - PROGRESS: at 61.24% examples, 1041444 words/s, in_qsize 18, out_qsize 1\n",
            "2023-03-07 20:46:55,505 : INFO : EPOCH 7 - PROGRESS: at 65.11% examples, 1041695 words/s, in_qsize 19, out_qsize 1\n",
            "2023-03-07 20:46:56,514 : INFO : EPOCH 7 - PROGRESS: at 68.75% examples, 1044095 words/s, in_qsize 20, out_qsize 0\n",
            "2023-03-07 20:46:57,522 : INFO : EPOCH 7 - PROGRESS: at 72.30% examples, 1046149 words/s, in_qsize 19, out_qsize 0\n",
            "2023-03-07 20:46:58,532 : INFO : EPOCH 7 - PROGRESS: at 75.95% examples, 1047190 words/s, in_qsize 18, out_qsize 1\n",
            "2023-03-07 20:46:59,540 : INFO : EPOCH 7 - PROGRESS: at 79.43% examples, 1048821 words/s, in_qsize 19, out_qsize 0\n",
            "2023-03-07 20:47:00,550 : INFO : EPOCH 7 - PROGRESS: at 82.97% examples, 1049444 words/s, in_qsize 19, out_qsize 0\n",
            "2023-03-07 20:47:01,558 : INFO : EPOCH 7 - PROGRESS: at 86.61% examples, 1051381 words/s, in_qsize 19, out_qsize 0\n",
            "2023-03-07 20:47:02,566 : INFO : EPOCH 7 - PROGRESS: at 90.44% examples, 1052004 words/s, in_qsize 19, out_qsize 0\n",
            "2023-03-07 20:47:03,579 : INFO : EPOCH 7 - PROGRESS: at 94.24% examples, 1053457 words/s, in_qsize 19, out_qsize 0\n",
            "2023-03-07 20:47:04,584 : INFO : EPOCH 7 - PROGRESS: at 97.97% examples, 1054501 words/s, in_qsize 18, out_qsize 1\n",
            "2023-03-07 20:47:05,071 : INFO : worker thread finished; awaiting finish of 9 more threads\n",
            "2023-03-07 20:47:05,074 : INFO : worker thread finished; awaiting finish of 8 more threads\n",
            "2023-03-07 20:47:05,079 : INFO : worker thread finished; awaiting finish of 7 more threads\n",
            "2023-03-07 20:47:05,092 : INFO : worker thread finished; awaiting finish of 6 more threads\n",
            "2023-03-07 20:47:05,096 : INFO : worker thread finished; awaiting finish of 5 more threads\n",
            "2023-03-07 20:47:05,098 : INFO : worker thread finished; awaiting finish of 4 more threads\n",
            "2023-03-07 20:47:05,104 : INFO : worker thread finished; awaiting finish of 3 more threads\n",
            "2023-03-07 20:47:05,111 : INFO : worker thread finished; awaiting finish of 2 more threads\n",
            "2023-03-07 20:47:05,118 : INFO : worker thread finished; awaiting finish of 1 more threads\n",
            "2023-03-07 20:47:05,120 : INFO : worker thread finished; awaiting finish of 0 more threads\n",
            "2023-03-07 20:47:05,121 : INFO : EPOCH - 7 : training on 41519359 raw words (30347591 effective words) took 28.8s, 1055026 effective words/s\n",
            "2023-03-07 20:47:06,131 : INFO : EPOCH 8 - PROGRESS: at 3.26% examples, 1008822 words/s, in_qsize 19, out_qsize 0\n",
            "2023-03-07 20:47:07,143 : INFO : EPOCH 8 - PROGRESS: at 6.87% examples, 1049111 words/s, in_qsize 20, out_qsize 1\n"
          ]
        },
        {
          "name": "stderr",
          "output_type": "stream",
          "text": [
            "2023-03-07 20:47:08,144 : INFO : EPOCH 8 - PROGRESS: at 9.90% examples, 1046600 words/s, in_qsize 19, out_qsize 0\n",
            "2023-03-07 20:47:09,148 : INFO : EPOCH 8 - PROGRESS: at 12.79% examples, 1051672 words/s, in_qsize 19, out_qsize 0\n",
            "2023-03-07 20:47:10,163 : INFO : EPOCH 8 - PROGRESS: at 16.05% examples, 1058899 words/s, in_qsize 19, out_qsize 0\n",
            "2023-03-07 20:47:11,172 : INFO : EPOCH 8 - PROGRESS: at 19.00% examples, 1062779 words/s, in_qsize 19, out_qsize 0\n",
            "2023-03-07 20:47:12,174 : INFO : EPOCH 8 - PROGRESS: at 22.10% examples, 1066083 words/s, in_qsize 19, out_qsize 0\n",
            "2023-03-07 20:47:13,180 : INFO : EPOCH 8 - PROGRESS: at 24.87% examples, 1062473 words/s, in_qsize 19, out_qsize 0\n",
            "2023-03-07 20:47:14,182 : INFO : EPOCH 8 - PROGRESS: at 28.96% examples, 1066878 words/s, in_qsize 19, out_qsize 0\n",
            "2023-03-07 20:47:15,195 : INFO : EPOCH 8 - PROGRESS: at 32.94% examples, 1069187 words/s, in_qsize 19, out_qsize 0\n",
            "2023-03-07 20:47:16,201 : INFO : EPOCH 8 - PROGRESS: at 36.64% examples, 1069170 words/s, in_qsize 18, out_qsize 1\n",
            "2023-03-07 20:47:17,203 : INFO : EPOCH 8 - PROGRESS: at 40.43% examples, 1069871 words/s, in_qsize 18, out_qsize 1\n",
            "2023-03-07 20:47:18,209 : INFO : EPOCH 8 - PROGRESS: at 44.41% examples, 1069830 words/s, in_qsize 19, out_qsize 0\n",
            "2023-03-07 20:47:19,227 : INFO : EPOCH 8 - PROGRESS: at 48.21% examples, 1070197 words/s, in_qsize 19, out_qsize 0\n",
            "2023-03-07 20:47:20,234 : INFO : EPOCH 8 - PROGRESS: at 52.00% examples, 1071610 words/s, in_qsize 19, out_qsize 0\n",
            "2023-03-07 20:47:21,235 : INFO : EPOCH 8 - PROGRESS: at 55.67% examples, 1072213 words/s, in_qsize 18, out_qsize 1\n",
            "2023-03-07 20:47:22,236 : INFO : EPOCH 8 - PROGRESS: at 59.46% examples, 1073694 words/s, in_qsize 19, out_qsize 0\n",
            "2023-03-07 20:47:23,244 : INFO : EPOCH 8 - PROGRESS: at 63.26% examples, 1074315 words/s, in_qsize 19, out_qsize 0\n",
            "2023-03-07 20:47:24,250 : INFO : EPOCH 8 - PROGRESS: at 66.92% examples, 1072929 words/s, in_qsize 19, out_qsize 0\n",
            "2023-03-07 20:47:25,256 : INFO : EPOCH 8 - PROGRESS: at 70.55% examples, 1074036 words/s, in_qsize 19, out_qsize 0\n",
            "2023-03-07 20:47:26,260 : INFO : EPOCH 8 - PROGRESS: at 74.34% examples, 1074837 words/s, in_qsize 18, out_qsize 1\n",
            "2023-03-07 20:47:27,267 : INFO : EPOCH 8 - PROGRESS: at 77.65% examples, 1074040 words/s, in_qsize 19, out_qsize 0\n",
            "2023-03-07 20:47:28,282 : INFO : EPOCH 8 - PROGRESS: at 81.25% examples, 1074861 words/s, in_qsize 17, out_qsize 2\n",
            "2023-03-07 20:47:29,289 : INFO : EPOCH 8 - PROGRESS: at 84.77% examples, 1074372 words/s, in_qsize 19, out_qsize 0\n",
            "2023-03-07 20:47:30,296 : INFO : EPOCH 8 - PROGRESS: at 88.61% examples, 1074638 words/s, in_qsize 17, out_qsize 2\n",
            "2023-03-07 20:47:31,302 : INFO : EPOCH 8 - PROGRESS: at 92.39% examples, 1074494 words/s, in_qsize 19, out_qsize 0\n",
            "2023-03-07 20:47:32,302 : INFO : EPOCH 8 - PROGRESS: at 96.05% examples, 1075018 words/s, in_qsize 19, out_qsize 0\n",
            "2023-03-07 20:47:33,294 : INFO : worker thread finished; awaiting finish of 9 more threads\n",
            "2023-03-07 20:47:33,298 : INFO : worker thread finished; awaiting finish of 8 more threads\n",
            "2023-03-07 20:47:33,313 : INFO : EPOCH 8 - PROGRESS: at 99.83% examples, 1075033 words/s, in_qsize 7, out_qsize 1\n",
            "2023-03-07 20:47:33,314 : INFO : worker thread finished; awaiting finish of 7 more threads\n",
            "2023-03-07 20:47:33,317 : INFO : worker thread finished; awaiting finish of 6 more threads\n",
            "2023-03-07 20:47:33,328 : INFO : worker thread finished; awaiting finish of 5 more threads\n",
            "2023-03-07 20:47:33,330 : INFO : worker thread finished; awaiting finish of 4 more threads\n",
            "2023-03-07 20:47:33,335 : INFO : worker thread finished; awaiting finish of 3 more threads\n",
            "2023-03-07 20:47:33,337 : INFO : worker thread finished; awaiting finish of 2 more threads\n",
            "2023-03-07 20:47:33,339 : INFO : worker thread finished; awaiting finish of 1 more threads\n",
            "2023-03-07 20:47:33,346 : INFO : worker thread finished; awaiting finish of 0 more threads\n",
            "2023-03-07 20:47:33,347 : INFO : EPOCH - 8 : training on 41519359 raw words (30345504 effective words) took 28.2s, 1075430 effective words/s\n",
            "2023-03-07 20:47:34,361 : INFO : EPOCH 9 - PROGRESS: at 3.36% examples, 1039646 words/s, in_qsize 19, out_qsize 0\n",
            "2023-03-07 20:47:35,380 : INFO : EPOCH 9 - PROGRESS: at 6.98% examples, 1060975 words/s, in_qsize 19, out_qsize 0\n",
            "2023-03-07 20:47:36,383 : INFO : EPOCH 9 - PROGRESS: at 10.18% examples, 1074765 words/s, in_qsize 19, out_qsize 0\n",
            "2023-03-07 20:47:37,385 : INFO : EPOCH 9 - PROGRESS: at 13.08% examples, 1070147 words/s, in_qsize 19, out_qsize 0\n",
            "2023-03-07 20:47:38,404 : INFO : EPOCH 9 - PROGRESS: at 16.31% examples, 1073963 words/s, in_qsize 19, out_qsize 0\n",
            "2023-03-07 20:47:39,415 : INFO : EPOCH 9 - PROGRESS: at 19.24% examples, 1074982 words/s, in_qsize 19, out_qsize 0\n",
            "2023-03-07 20:47:40,424 : INFO : EPOCH 9 - PROGRESS: at 22.35% examples, 1075584 words/s, in_qsize 19, out_qsize 0\n",
            "2023-03-07 20:47:41,427 : INFO : EPOCH 9 - PROGRESS: at 25.29% examples, 1073081 words/s, in_qsize 19, out_qsize 0\n",
            "2023-03-07 20:47:42,434 : INFO : EPOCH 9 - PROGRESS: at 29.30% examples, 1074749 words/s, in_qsize 19, out_qsize 0\n",
            "2023-03-07 20:47:43,456 : INFO : EPOCH 9 - PROGRESS: at 32.64% examples, 1057350 words/s, in_qsize 17, out_qsize 2\n",
            "2023-03-07 20:47:44,463 : INFO : EPOCH 9 - PROGRESS: at 36.25% examples, 1055858 words/s, in_qsize 19, out_qsize 0\n",
            "2023-03-07 20:47:45,476 : INFO : EPOCH 9 - PROGRESS: at 40.04% examples, 1056148 words/s, in_qsize 19, out_qsize 0\n",
            "2023-03-07 20:47:46,485 : INFO : EPOCH 9 - PROGRESS: at 43.99% examples, 1057352 words/s, in_qsize 18, out_qsize 1\n",
            "2023-03-07 20:47:47,485 : INFO : EPOCH 9 - PROGRESS: at 47.72% examples, 1057463 words/s, in_qsize 18, out_qsize 1\n",
            "2023-03-07 20:47:48,489 : INFO : EPOCH 9 - PROGRESS: at 51.41% examples, 1057751 words/s, in_qsize 18, out_qsize 1\n",
            "2023-03-07 20:47:49,497 : INFO : EPOCH 9 - PROGRESS: at 54.74% examples, 1055194 words/s, in_qsize 18, out_qsize 1\n",
            "2023-03-07 20:47:50,496 : INFO : EPOCH 9 - PROGRESS: at 58.27% examples, 1051773 words/s, in_qsize 19, out_qsize 0\n",
            "2023-03-07 20:47:51,498 : INFO : EPOCH 9 - PROGRESS: at 61.61% examples, 1047246 words/s, in_qsize 19, out_qsize 0\n",
            "2023-03-07 20:47:52,499 : INFO : EPOCH 9 - PROGRESS: at 65.33% examples, 1045965 words/s, in_qsize 19, out_qsize 0\n",
            "2023-03-07 20:47:53,520 : INFO : EPOCH 9 - PROGRESS: at 68.60% examples, 1042120 words/s, in_qsize 19, out_qsize 0\n",
            "2023-03-07 20:47:54,521 : INFO : EPOCH 9 - PROGRESS: at 72.14% examples, 1044214 words/s, in_qsize 18, out_qsize 1\n",
            "2023-03-07 20:47:55,532 : INFO : EPOCH 9 - PROGRESS: at 75.88% examples, 1046355 words/s, in_qsize 18, out_qsize 1\n",
            "2023-03-07 20:47:56,537 : INFO : EPOCH 9 - PROGRESS: at 79.33% examples, 1047490 words/s, in_qsize 19, out_qsize 0\n",
            "2023-03-07 20:47:57,539 : INFO : EPOCH 9 - PROGRESS: at 82.84% examples, 1048484 words/s, in_qsize 18, out_qsize 1\n",
            "2023-03-07 20:47:58,541 : INFO : EPOCH 9 - PROGRESS: at 86.45% examples, 1050451 words/s, in_qsize 19, out_qsize 0\n",
            "2023-03-07 20:47:59,544 : INFO : EPOCH 9 - PROGRESS: at 90.28% examples, 1051039 words/s, in_qsize 19, out_qsize 0\n",
            "2023-03-07 20:48:00,556 : INFO : EPOCH 9 - PROGRESS: at 93.90% examples, 1050908 words/s, in_qsize 19, out_qsize 0\n",
            "2023-03-07 20:48:01,561 : INFO : EPOCH 9 - PROGRESS: at 97.62% examples, 1052085 words/s, in_qsize 18, out_qsize 1\n",
            "2023-03-07 20:48:02,148 : INFO : worker thread finished; awaiting finish of 9 more threads\n",
            "2023-03-07 20:48:02,157 : INFO : worker thread finished; awaiting finish of 8 more threads\n",
            "2023-03-07 20:48:02,160 : INFO : worker thread finished; awaiting finish of 7 more threads\n",
            "2023-03-07 20:48:02,166 : INFO : worker thread finished; awaiting finish of 6 more threads\n",
            "2023-03-07 20:48:02,167 : INFO : worker thread finished; awaiting finish of 5 more threads\n",
            "2023-03-07 20:48:02,181 : INFO : worker thread finished; awaiting finish of 4 more threads\n",
            "2023-03-07 20:48:02,187 : INFO : worker thread finished; awaiting finish of 3 more threads\n",
            "2023-03-07 20:48:02,189 : INFO : worker thread finished; awaiting finish of 2 more threads\n",
            "2023-03-07 20:48:02,195 : INFO : worker thread finished; awaiting finish of 1 more threads\n",
            "2023-03-07 20:48:02,203 : INFO : worker thread finished; awaiting finish of 0 more threads\n",
            "2023-03-07 20:48:02,204 : INFO : EPOCH - 9 : training on 41519359 raw words (30350878 effective words) took 28.8s, 1052066 effective words/s\n"
          ]
        },
        {
          "name": "stderr",
          "output_type": "stream",
          "text": [
            "2023-03-07 20:48:03,222 : INFO : EPOCH 10 - PROGRESS: at 3.27% examples, 1007108 words/s, in_qsize 17, out_qsize 2\n",
            "2023-03-07 20:48:04,230 : INFO : EPOCH 10 - PROGRESS: at 6.92% examples, 1054353 words/s, in_qsize 19, out_qsize 0\n",
            "2023-03-07 20:48:05,233 : INFO : EPOCH 10 - PROGRESS: at 10.07% examples, 1060859 words/s, in_qsize 19, out_qsize 0\n",
            "2023-03-07 20:48:06,237 : INFO : EPOCH 10 - PROGRESS: at 12.97% examples, 1062399 words/s, in_qsize 20, out_qsize 0\n",
            "2023-03-07 20:48:07,240 : INFO : EPOCH 10 - PROGRESS: at 16.16% examples, 1066859 words/s, in_qsize 18, out_qsize 1\n",
            "2023-03-07 20:48:08,250 : INFO : EPOCH 10 - PROGRESS: at 19.04% examples, 1065980 words/s, in_qsize 19, out_qsize 0\n",
            "2023-03-07 20:48:09,254 : INFO : EPOCH 10 - PROGRESS: at 22.13% examples, 1067334 words/s, in_qsize 19, out_qsize 0\n",
            "2023-03-07 20:48:10,263 : INFO : EPOCH 10 - PROGRESS: at 25.10% examples, 1069423 words/s, in_qsize 19, out_qsize 0\n",
            "2023-03-07 20:48:11,268 : INFO : EPOCH 10 - PROGRESS: at 29.09% examples, 1070463 words/s, in_qsize 19, out_qsize 0\n",
            "2023-03-07 20:48:12,281 : INFO : EPOCH 10 - PROGRESS: at 32.98% examples, 1069362 words/s, in_qsize 19, out_qsize 0\n",
            "2023-03-07 20:48:13,288 : INFO : EPOCH 10 - PROGRESS: at 36.54% examples, 1066001 words/s, in_qsize 19, out_qsize 0\n",
            "2023-03-07 20:48:14,296 : INFO : EPOCH 10 - PROGRESS: at 40.25% examples, 1064192 words/s, in_qsize 19, out_qsize 0\n",
            "2023-03-07 20:48:15,305 : INFO : EPOCH 10 - PROGRESS: at 44.12% examples, 1063100 words/s, in_qsize 19, out_qsize 0\n",
            "2023-03-07 20:48:16,319 : INFO : EPOCH 10 - PROGRESS: at 47.97% examples, 1064789 words/s, in_qsize 19, out_qsize 0\n",
            "2023-03-07 20:48:17,325 : INFO : EPOCH 10 - PROGRESS: at 51.74% examples, 1065335 words/s, in_qsize 19, out_qsize 0\n",
            "2023-03-07 20:48:18,327 : INFO : EPOCH 10 - PROGRESS: at 55.31% examples, 1065279 words/s, in_qsize 17, out_qsize 2\n",
            "2023-03-07 20:48:19,335 : INFO : EPOCH 10 - PROGRESS: at 59.10% examples, 1066283 words/s, in_qsize 19, out_qsize 0\n",
            "2023-03-07 20:48:20,342 : INFO : EPOCH 10 - PROGRESS: at 62.80% examples, 1066534 words/s, in_qsize 20, out_qsize 0\n",
            "2023-03-07 20:48:21,346 : INFO : EPOCH 10 - PROGRESS: at 66.57% examples, 1066610 words/s, in_qsize 19, out_qsize 0\n",
            "2023-03-07 20:48:22,356 : INFO : EPOCH 10 - PROGRESS: at 70.13% examples, 1066959 words/s, in_qsize 19, out_qsize 0\n",
            "2023-03-07 20:48:23,370 : INFO : EPOCH 10 - PROGRESS: at 73.84% examples, 1066276 words/s, in_qsize 19, out_qsize 0\n",
            "2023-03-07 20:48:24,379 : INFO : EPOCH 10 - PROGRESS: at 77.19% examples, 1065867 words/s, in_qsize 19, out_qsize 0\n",
            "2023-03-07 20:48:25,391 : INFO : EPOCH 10 - PROGRESS: at 80.64% examples, 1065549 words/s, in_qsize 19, out_qsize 0\n",
            "2023-03-07 20:48:26,399 : INFO : EPOCH 10 - PROGRESS: at 84.24% examples, 1066088 words/s, in_qsize 18, out_qsize 1\n",
            "2023-03-07 20:48:27,409 : INFO : EPOCH 10 - PROGRESS: at 87.93% examples, 1065985 words/s, in_qsize 18, out_qsize 1\n",
            "2023-03-07 20:48:28,417 : INFO : EPOCH 10 - PROGRESS: at 91.76% examples, 1066603 words/s, in_qsize 19, out_qsize 0\n",
            "2023-03-07 20:48:29,418 : INFO : EPOCH 10 - PROGRESS: at 95.28% examples, 1065257 words/s, in_qsize 19, out_qsize 0\n",
            "2023-03-07 20:48:30,424 : INFO : EPOCH 10 - PROGRESS: at 98.94% examples, 1064865 words/s, in_qsize 19, out_qsize 0\n",
            "2023-03-07 20:48:30,669 : INFO : worker thread finished; awaiting finish of 9 more threads\n",
            "2023-03-07 20:48:30,677 : INFO : worker thread finished; awaiting finish of 8 more threads\n",
            "2023-03-07 20:48:30,684 : INFO : worker thread finished; awaiting finish of 7 more threads\n",
            "2023-03-07 20:48:30,685 : INFO : worker thread finished; awaiting finish of 6 more threads\n",
            "2023-03-07 20:48:30,690 : INFO : worker thread finished; awaiting finish of 5 more threads\n",
            "2023-03-07 20:48:30,697 : INFO : worker thread finished; awaiting finish of 4 more threads\n",
            "2023-03-07 20:48:30,698 : INFO : worker thread finished; awaiting finish of 3 more threads\n",
            "2023-03-07 20:48:30,708 : INFO : worker thread finished; awaiting finish of 2 more threads\n",
            "2023-03-07 20:48:30,716 : INFO : worker thread finished; awaiting finish of 1 more threads\n",
            "2023-03-07 20:48:30,719 : INFO : worker thread finished; awaiting finish of 0 more threads\n",
            "2023-03-07 20:48:30,720 : INFO : EPOCH - 10 : training on 41519359 raw words (30347695 effective words) took 28.5s, 1064547 effective words/s\n",
            "2023-03-07 20:48:30,722 : INFO : Word2Vec lifecycle event {'msg': 'training on 415193590 raw words (303484134 effective words) took 289.9s, 1046862 effective words/s', 'datetime': '2023-03-07T20:48:30.722214', 'gensim': '4.1.2', 'python': '3.9.12 (main, Apr  4 2022, 05:22:27) [MSC v.1916 64 bit (AMD64)]', 'platform': 'Windows-10-10.0.19045-SP0', 'event': 'train'}\n"
          ]
        },
        {
          "data": {
            "text/plain": [
              "(303484134, 415193590)"
            ]
          },
          "execution_count": 9,
          "metadata": {},
          "output_type": "execute_result"
        }
      ],
      "source": [
        "model = gensim.models.Word2Vec(documents, vector_size=150, window=10, min_count=2, workers=10)\n",
        "model.train(documents,total_examples=len(documents),epochs=10)"
      ]
    },
    {
      "cell_type": "markdown",
      "metadata": {
        "id": "hZ2r_X8l4TH6"
      },
      "source": [
        "##### Determine Similar Words"
      ]
    },
    {
      "cell_type": "code",
      "execution_count": null,
      "metadata": {
        "id": "5UOkL0Tu4TH6",
        "outputId": "21d510b4-48c7-491b-fd4b-dd87d2b209f3"
      },
      "outputs": [
        {
          "data": {
            "text/plain": [
              "[('filthy', 0.8662021160125732),\n",
              " ('stained', 0.7803919315338135),\n",
              " ('unclean', 0.7735113501548767),\n",
              " ('dusty', 0.7707752585411072),\n",
              " ('grubby', 0.755465567111969),\n",
              " ('smelly', 0.754362165927887),\n",
              " ('mouldy', 0.7182784080505371),\n",
              " ('soiled', 0.7163498401641846),\n",
              " ('disgusting', 0.7112285494804382),\n",
              " ('gross', 0.7097774744033813)]"
            ]
          },
          "execution_count": 10,
          "metadata": {},
          "output_type": "execute_result"
        }
      ],
      "source": [
        "w1 = \"dirty\"\n",
        "model.wv.most_similar(positive=w1)"
      ]
    },
    {
      "cell_type": "code",
      "execution_count": null,
      "metadata": {
        "id": "C5IXhaY04TH7",
        "outputId": "82e1372a-ed36-4f7d-cdca-1ee9461f1641"
      },
      "outputs": [
        {
          "data": {
            "text/plain": [
              "[('courteous', 0.9187648296356201),\n",
              " ('friendly', 0.8420291543006897),\n",
              " ('cordial', 0.8034182786941528),\n",
              " ('professional', 0.7910556197166443),\n",
              " ('attentive', 0.7811822891235352),\n",
              " ('personable', 0.7602941393852234)]"
            ]
          },
          "execution_count": 11,
          "metadata": {},
          "output_type": "execute_result"
        }
      ],
      "source": [
        "w1 = [\"polite\"]\n",
        "model.wv.most_similar(positive=w1,topn=6)"
      ]
    },
    {
      "cell_type": "code",
      "execution_count": null,
      "metadata": {
        "id": "Mg4EnXRK4TH7",
        "outputId": "32a3f223-7c89-47aa-918f-7cc37d210c31"
      },
      "outputs": [
        {
          "data": {
            "text/plain": [
              "[('canada', 0.6857007741928101),\n",
              " ('spain', 0.6674055457115173),\n",
              " ('germany', 0.6383941173553467),\n",
              " ('greece', 0.6188459396362305),\n",
              " ('england', 0.5949788093566895),\n",
              " ('mexico', 0.5882871150970459)]"
            ]
          },
          "execution_count": 12,
          "metadata": {},
          "output_type": "execute_result"
        }
      ],
      "source": [
        "w1 = [\"france\"]\n",
        "model.wv.most_similar(positive=w1,topn=6)"
      ]
    },
    {
      "cell_type": "code",
      "execution_count": null,
      "metadata": {
        "id": "qELbFKii4TH8",
        "outputId": "cfdbe348-d4c4-427a-a910-b1107b924b47"
      },
      "outputs": [
        {
          "data": {
            "text/plain": [
              "[('horrified', 0.8122370839118958),\n",
              " ('amazed', 0.8022541403770447),\n",
              " ('stunned', 0.7757717967033386),\n",
              " ('astonished', 0.7615650296211243),\n",
              " ('appalled', 0.7527512311935425),\n",
              " ('dismayed', 0.7368218898773193)]"
            ]
          },
          "execution_count": 13,
          "metadata": {},
          "output_type": "execute_result"
        }
      ],
      "source": [
        "w1 = [\"shocked\"]\n",
        "model.wv.most_similar(positive=w1,topn=6)"
      ]
    },
    {
      "cell_type": "code",
      "execution_count": null,
      "metadata": {
        "id": "jEpKnnzu4TH8",
        "outputId": "eab62ece-df42-481c-c3a3-bf78e081639f"
      },
      "outputs": [
        {
          "data": {
            "text/plain": [
              "[('duvet', 0.7138960361480713),\n",
              " ('mattress', 0.6941751837730408),\n",
              " ('quilt', 0.6922807693481445),\n",
              " ('blanket', 0.6922429800033569),\n",
              " ('matress', 0.6790806651115417),\n",
              " ('pillowcase', 0.6540178656578064),\n",
              " ('pillows', 0.6411897540092468),\n",
              " ('sheets', 0.6325255632400513),\n",
              " ('foam', 0.6090880632400513),\n",
              " ('comforter', 0.6004157066345215)]"
            ]
          },
          "execution_count": 14,
          "metadata": {},
          "output_type": "execute_result"
        }
      ],
      "source": [
        "w1 = [\"bed\",'sheet','pillow']\n",
        "w2 = ['couch']\n",
        "model.wv.most_similar(positive=w1,negative=w2,topn=10)"
      ]
    },
    {
      "cell_type": "code",
      "execution_count": null,
      "metadata": {
        "id": "dJO3uGJb4TH9",
        "outputId": "8fc513da-d087-46a6-ba76-97375c12d6c3"
      },
      "outputs": [
        {
          "data": {
            "text/plain": [
              "0.75436217"
            ]
          },
          "execution_count": 15,
          "metadata": {},
          "output_type": "execute_result"
        }
      ],
      "source": [
        "# similarity between two different words\n",
        "model.wv.similarity(w1=\"dirty\",w2=\"smelly\")"
      ]
    },
    {
      "cell_type": "code",
      "execution_count": null,
      "metadata": {
        "id": "yEGzG_kU4TH9",
        "outputId": "0df884f3-9817-484f-c5e9-64d4bafd7397"
      },
      "outputs": [
        {
          "data": {
            "text/plain": [
              "1.0"
            ]
          },
          "execution_count": 16,
          "metadata": {},
          "output_type": "execute_result"
        }
      ],
      "source": [
        "# similarity between two identical words\n",
        "model.wv.similarity(w1=\"dirty\",w2=\"dirty\")"
      ]
    },
    {
      "cell_type": "code",
      "execution_count": null,
      "metadata": {
        "id": "2E4nBUYW4TH9",
        "outputId": "ce9815f4-6d3c-4790-f0ea-ec7c03a23077"
      },
      "outputs": [
        {
          "data": {
            "text/plain": [
              "0.2693956"
            ]
          },
          "execution_count": 19,
          "metadata": {},
          "output_type": "execute_result"
        }
      ],
      "source": [
        "# similarity between two unrelated words\n",
        "model.wv.similarity(w1=\"dirty\",w2=\"clean\")"
      ]
    },
    {
      "cell_type": "code",
      "execution_count": null,
      "metadata": {
        "id": "PsApydR24TH-",
        "outputId": "1dc48f35-bc5e-40be-d463-cbf27c942cf3"
      },
      "outputs": [
        {
          "data": {
            "text/plain": [
              "'france'"
            ]
          },
          "execution_count": 20,
          "metadata": {},
          "output_type": "execute_result"
        }
      ],
      "source": [
        "# Which one is the odd one out in this list?\n",
        "model.wv.doesnt_match([\"cat\",\"dog\",\"france\"])"
      ]
    },
    {
      "cell_type": "code",
      "execution_count": null,
      "metadata": {
        "id": "SFDx_Z5f4TH-",
        "outputId": "9a4bb4ca-1271-4bac-d9b9-6c373b29e9c1"
      },
      "outputs": [
        {
          "data": {
            "text/plain": [
              "'shower'"
            ]
          },
          "execution_count": 21,
          "metadata": {},
          "output_type": "execute_result"
        }
      ],
      "source": [
        "# Which one is the odd one out in this list?\n",
        "model.wv.doesnt_match([\"bed\",\"pillow\",\"duvet\",\"shower\"])"
      ]
    },
    {
      "cell_type": "markdown",
      "metadata": {
        "id": "FuLwblZV4TH-"
      },
      "source": [
        "### IMDB Dataset"
      ]
    },
    {
      "cell_type": "code",
      "execution_count": 3,
      "metadata": {
        "id": "hPFh7Oe_4TH_"
      },
      "outputs": [],
      "source": [
        "df_imdb = pd.read_csv(\"/content/gdrive/My Drive/IMDB Dataset.csv\")"
      ]
    },
    {
      "cell_type": "code",
      "execution_count": null,
      "metadata": {
        "id": "6RERT_l84TH_",
        "outputId": "d67f9f16-587c-483a-fa2f-4df4ddf28481"
      },
      "outputs": [
        {
          "data": {
            "text/html": [
              "<div>\n",
              "<style scoped>\n",
              "    .dataframe tbody tr th:only-of-type {\n",
              "        vertical-align: middle;\n",
              "    }\n",
              "\n",
              "    .dataframe tbody tr th {\n",
              "        vertical-align: top;\n",
              "    }\n",
              "\n",
              "    .dataframe thead th {\n",
              "        text-align: right;\n",
              "    }\n",
              "</style>\n",
              "<table border=\"1\" class=\"dataframe\">\n",
              "  <thead>\n",
              "    <tr style=\"text-align: right;\">\n",
              "      <th></th>\n",
              "      <th>review</th>\n",
              "      <th>sentiment</th>\n",
              "    </tr>\n",
              "  </thead>\n",
              "  <tbody>\n",
              "    <tr>\n",
              "      <th>0</th>\n",
              "      <td>One of the other reviewers has mentioned that ...</td>\n",
              "      <td>positive</td>\n",
              "    </tr>\n",
              "    <tr>\n",
              "      <th>1</th>\n",
              "      <td>A wonderful little production. &lt;br /&gt;&lt;br /&gt;The...</td>\n",
              "      <td>positive</td>\n",
              "    </tr>\n",
              "  </tbody>\n",
              "</table>\n",
              "</div>"
            ],
            "text/plain": [
              "                                              review sentiment\n",
              "0  One of the other reviewers has mentioned that ...  positive\n",
              "1  A wonderful little production. <br /><br />The...  positive"
            ]
          },
          "execution_count": 15,
          "metadata": {},
          "output_type": "execute_result"
        }
      ],
      "source": [
        "df_imdb.head(2)"
      ]
    },
    {
      "cell_type": "code",
      "execution_count": null,
      "metadata": {
        "id": "5dIgyuKa4TH_",
        "outputId": "d91fa778-03b2-4e5a-cd4d-f98a7d6ef1ec"
      },
      "outputs": [
        {
          "data": {
            "text/plain": [
              "0    One of the other reviewers has mentioned that after watching just 1 Oz episode you'll be hooked. They are right, as this is exactly what happened with me.<br /><br />The first thing that struck me about Oz was its brutality and unflinching scenes of violence, which set in right from the word GO. Trust me, this is not a show for the faint hearted or timid. This show pulls no punches with regards to drugs, sex or violence. Its is hardcore, in the classic use of the word.<br /><br />It is calle...\n",
              "1    A wonderful little production. <br /><br />The filming technique is very unassuming- very old-time-BBC fashion and gives a comforting, and sometimes discomforting, sense of realism to the entire piece. <br /><br />The actors are extremely well chosen- Michael Sheen not only \"has got all the polari\" but he has all the voices down pat too! You can truly see the seamless editing guided by the references to Williams' diary entries, not only is it well worth the watching but it is a terrificly wr...\n",
              "2    I thought this was a wonderful way to spend time on a too hot summer weekend, sitting in the air conditioned theater and watching a light-hearted comedy. The plot is simplistic, but the dialogue is witty and the characters are likable (even the well bread suspected serial killer). While some may be disappointed when they realize this is not Match Point 2: Risk Addiction, I thought it was proof that Woody Allen is still fully in control of the style many of us have grown to love.<br /><br />T...\n",
              "3    Basically there's a family where a little boy (Jake) thinks there's a zombie in his closet & his parents are fighting all the time.<br /><br />This movie is slower than a soap opera... and suddenly, Jake decides to become Rambo and kill the zombie.<br /><br />OK, first of all when you're going to make a film you must Decide if its a thriller or a drama! As a drama the movie is watchable. Parents are divorcing & arguing like in real life. And then we have Jake with his closet which totally ru...\n",
              "4    Petter Mattei's \"Love in the Time of Money\" is a visually stunning film to watch. Mr. Mattei offers us a vivid portrait about human relations. This is a movie that seems to be telling us what money, power and success do to people in the different situations we encounter. <br /><br />This being a variation on the Arthur Schnitzler's play about the same theme, the director transfers the action to the present time New York where all these different characters meet and connect. Each one is conne...\n",
              "Name: review, dtype: object"
            ]
          },
          "execution_count": 16,
          "metadata": {},
          "output_type": "execute_result"
        }
      ],
      "source": [
        "pd.set_option('display.max_colwidth',500)\n",
        "df_imdb['review'].head(5)"
      ]
    },
    {
      "cell_type": "markdown",
      "metadata": {
        "id": "TJ_TxBBB4TH_"
      },
      "source": [
        "#### We don't need to much preprocessing on the text such as stemming or lemitization because word2vec is more about context around the words. So, replacing the words with their root lemmas would be unnecessay for example Running and run can be in different tenses, finding out similar words depends on the tense of the senteces. "
      ]
    },
    {
      "cell_type": "markdown",
      "metadata": {
        "id": "rCTeuwH54TH_"
      },
      "source": [
        "#### So, here we could just lower the cases and remove \" breaks \" words from the text"
      ]
    },
    {
      "cell_type": "code",
      "execution_count": 4,
      "metadata": {
        "id": "u4k7SwMB4TIA"
      },
      "outputs": [],
      "source": [
        "def tokenize(text):\n",
        "    text = text.replace('<br />', '')\n",
        "    tokens = gensim.utils.simple_preprocess(text)\n",
        "    return pd.Series([tokens, ' '.join(tokens)])"
      ]
    },
    {
      "cell_type": "code",
      "execution_count": 5,
      "metadata": {
        "id": "jfzhkPsq4TIA"
      },
      "outputs": [],
      "source": [
        "df_imdb[['text_tokens', 'tokenized_text']] = df_imdb['review'].apply(tokenize)"
      ]
    },
    {
      "cell_type": "code",
      "execution_count": null,
      "metadata": {
        "id": "dE3XZRG-4TIA"
      },
      "outputs": [],
      "source": [
        "X_train, X_test, y_train, y_test = train_test_split(df_imdb[['text_tokens','review','tokenized_text']], df_imdb['sentiment'], test_size=0.2, random_state=42)"
      ]
    },
    {
      "cell_type": "code",
      "execution_count": null,
      "metadata": {
        "scrolled": true,
        "id": "-SmdVrph4TIA"
      },
      "outputs": [],
      "source": [
        "wordvec_model = gensim.models.Word2Vec(X_train['text_tokens'], sg=1, vector_size=100, min_count=5, window=5, workers=4)"
      ]
    },
    {
      "cell_type": "code",
      "execution_count": null,
      "metadata": {
        "scrolled": true,
        "id": "hSUI27It4TIA",
        "outputId": "7130c14c-8184-4549-9f64-b3b6d2d5daec"
      },
      "outputs": [
        {
          "name": "stderr",
          "output_type": "stream",
          "text": [
            "100%|████████████████████████████████████████████████████████████████████████████| 40000/40000 [09:17<00:00, 71.75it/s]\n",
            "100%|████████████████████████████████████████████████████████████████████████████| 10000/10000 [02:23<00:00, 69.59it/s]\n"
          ]
        }
      ],
      "source": [
        "X_train_vec = []\n",
        "for review in tqdm(X_train['text_tokens']) :\n",
        "    review_vectors = [wordvec_model.wv[word] for word in review if word in wordvec_model.wv.index_to_key]\n",
        "    X_train_vec.append(np.mean(review_vectors, axis=0))\n",
        "    \n",
        "\n",
        "X_test_vec = []\n",
        "for review in tqdm(X_test['text_tokens']):\n",
        "    review_vectors = [wordvec_model.wv[word] for word in review if word in wordvec_model.wv.index_to_key]\n",
        "    if len(review_vectors) > 0:\n",
        "        X_test_vec.append(np.mean(review_vectors, axis=0))\n",
        "    else:\n",
        "        X_test_vec.append(np.zeros(wordvec_model.vector_size))"
      ]
    },
    {
      "cell_type": "code",
      "execution_count": null,
      "metadata": {
        "id": "urBdRTlx4TIB",
        "outputId": "704bd97c-a628-4369-9919-eaf63c170fac"
      },
      "outputs": [
        {
          "data": {
            "text/plain": [
              "LogisticRegression(max_iter=1000)"
            ]
          },
          "execution_count": 36,
          "metadata": {},
          "output_type": "execute_result"
        }
      ],
      "source": [
        "lr_model = LogisticRegression(max_iter=1000)\n",
        "lr_model.fit(X_train_vec, y_train)"
      ]
    },
    {
      "cell_type": "code",
      "execution_count": null,
      "metadata": {
        "id": "HPNkq6-c4TIB"
      },
      "outputs": [],
      "source": [
        "train_pred = lr_model.predict(X_train_vec)\n",
        "test_pred = lr_model.predict(X_test_vec)"
      ]
    },
    {
      "cell_type": "code",
      "execution_count": null,
      "metadata": {
        "id": "tnTbsVuj4TIB"
      },
      "outputs": [],
      "source": [
        "train_acc = accuracy_score(y_train, train_pred)\n",
        "test_acc = accuracy_score(y_test, test_pred)"
      ]
    },
    {
      "cell_type": "code",
      "execution_count": null,
      "metadata": {
        "id": "MPusW6014TIB",
        "outputId": "7eb75da2-07e8-4535-b610-438796836d7a"
      },
      "outputs": [
        {
          "name": "stdout",
          "output_type": "stream",
          "text": [
            "Train accuracy: 0.8689\n",
            "Test accuracy: 0.8684\n"
          ]
        }
      ],
      "source": [
        "print(\"Train accuracy:\", train_acc)\n",
        "print(\"Test accuracy:\", test_acc)"
      ]
    },
    {
      "cell_type": "code",
      "execution_count": null,
      "metadata": {
        "id": "HsbC8__O4TIB",
        "outputId": "bb9f24d7-6a1a-4299-8004-642bd03487e2"
      },
      "outputs": [
        {
          "name": "stdout",
          "output_type": "stream",
          "text": [
            "size_running: 25\n"
          ]
        },
        {
          "name": "stderr",
          "output_type": "stream",
          "text": [
            "100%|████████████████████████████████████████████████████████████████████████████| 40000/40000 [08:49<00:00, 75.60it/s]\n",
            "100%|████████████████████████████████████████████████████████████████████████████| 10000/10000 [02:27<00:00, 67.79it/s]\n"
          ]
        },
        {
          "name": "stdout",
          "output_type": "stream",
          "text": [
            "size_running: 50\n"
          ]
        },
        {
          "name": "stderr",
          "output_type": "stream",
          "text": [
            "100%|████████████████████████████████████████████████████████████████████████████| 40000/40000 [09:06<00:00, 73.16it/s]\n",
            "100%|████████████████████████████████████████████████████████████████████████████| 10000/10000 [02:30<00:00, 66.47it/s]\n"
          ]
        },
        {
          "name": "stdout",
          "output_type": "stream",
          "text": [
            "size_running: 100\n"
          ]
        },
        {
          "name": "stderr",
          "output_type": "stream",
          "text": [
            "100%|████████████████████████████████████████████████████████████████████████████| 40000/40000 [09:17<00:00, 71.70it/s]\n",
            "100%|████████████████████████████████████████████████████████████████████████████| 10000/10000 [02:16<00:00, 73.23it/s]\n"
          ]
        },
        {
          "name": "stdout",
          "output_type": "stream",
          "text": [
            "size_running: 150\n"
          ]
        },
        {
          "name": "stderr",
          "output_type": "stream",
          "text": [
            "100%|████████████████████████████████████████████████████████████████████████████| 40000/40000 [09:33<00:00, 69.74it/s]\n",
            "100%|████████████████████████████████████████████████████████████████████████████| 10000/10000 [02:25<00:00, 68.61it/s]\n"
          ]
        }
      ],
      "source": [
        "size_list = [25, 50, 100, 150]\n",
        "train_acc_list = []\n",
        "test_acc_list = []\n",
        "\n",
        "for size in size_list:\n",
        "    print(\"size_running: {}\".format(size))\n",
        "    wordvec_model = gensim.models.Word2Vec(X_train['text_tokens'], sg=1, vector_size=size, min_count=5, window=5, workers=4)\n",
        "    X_train_vec = []\n",
        "\n",
        "    for review in tqdm(X_train['text_tokens']) :\n",
        "        review_vectors = [wordvec_model.wv[word] for word in review if word in wordvec_model.wv.index_to_key]\n",
        "        X_train_vec.append(np.mean(review_vectors, axis=0))\n",
        "\n",
        "\n",
        "    X_test_vec = []\n",
        "    for review in tqdm(X_test['text_tokens']):\n",
        "        review_vectors = [wordvec_model.wv[word] for word in review if word in wordvec_model.wv.index_to_key]\n",
        "        if len(review_vectors) > 0:\n",
        "            X_test_vec.append(np.mean(review_vectors, axis=0))\n",
        "        else:\n",
        "            X_test_vec.append(np.zeros(wordvec_model.vector_size))\n",
        "    \n",
        "    lr_model = LogisticRegression(max_iter=1000)\n",
        "    lr_model.fit(X_train_vec, y_train)\n",
        "    \n",
        "    train_pred = lr_model.predict(X_train_vec)\n",
        "    test_pred = lr_model.predict(X_test_vec)\n",
        "    \n",
        "    train_acc = accuracy_score(y_train, train_pred)\n",
        "    test_acc = accuracy_score(y_test, test_pred)\n",
        "    \n",
        "    train_acc_list.append(train_acc)\n",
        "    test_acc_list.append(test_acc)"
      ]
    },
    {
      "cell_type": "code",
      "execution_count": null,
      "metadata": {
        "id": "5uKbCpxF4TIC",
        "outputId": "118aa872-e4a5-4742-949c-120c70a0ddca"
      },
      "outputs": [
        {
          "data": {
            "text/plain": [
              "[0.82935, 0.854175, 0.867875, 0.87455]"
            ]
          },
          "execution_count": 45,
          "metadata": {},
          "output_type": "execute_result"
        }
      ],
      "source": [
        "train_acc_list"
      ]
    },
    {
      "cell_type": "code",
      "execution_count": null,
      "metadata": {
        "id": "UowiXdWz4TIC",
        "outputId": "9407c1ad-1d39-48d7-da43-4e83104d56cd"
      },
      "outputs": [
        {
          "data": {
            "text/plain": [
              "[0.8296, 0.8577, 0.8644, 0.8738]"
            ]
          },
          "execution_count": 51,
          "metadata": {},
          "output_type": "execute_result"
        }
      ],
      "source": [
        "test_acc_list"
      ]
    },
    {
      "cell_type": "code",
      "execution_count": null,
      "metadata": {
        "id": "qKFb2nf94TIC",
        "outputId": "329eeb1d-4ee4-4958-bc3e-ef76e435ef5f"
      },
      "outputs": [
        {
          "data": {
            "image/png": "[encoded data removed]",
            "text/plain": [
              "<Figure size 432x288 with 1 Axes>"
            ]
          },
          "metadata": {
            "needs_background": "light"
          },
          "output_type": "display_data"
        }
      ],
      "source": [
        "plt.plot(size_list,train_acc_list, color='r',label='train')\n",
        "\n",
        "plt.plot(size_list,test_acc_list, color='b',label='test')\n",
        "\n",
        "plt.xlabel('Vector Size')\n",
        "plt.ylabel('Accuracies')\n",
        "plt.title('Train vs Test Accuracies')\n",
        "\n",
        "plt.legend()\n",
        "plt.show()"
      ]
    },
    {
      "cell_type": "code",
      "execution_count": null,
      "metadata": {
        "id": "GyeNHT_G4TIC",
        "outputId": "758931b2-a378-47cb-f488-b942af7d66c5"
      },
      "outputs": [
        {
          "data": {
            "text/plain": [
              "[0.8296, 0.8577, 0.8644, 0.8738]"
            ]
          },
          "execution_count": 47,
          "metadata": {},
          "output_type": "execute_result"
        }
      ],
      "source": [
        "test_acc_list"
      ]
    },
    {
      "cell_type": "code",
      "execution_count": null,
      "metadata": {
        "scrolled": true,
        "id": "pqNo2ATZ4TIC",
        "outputId": "a9264506-bb35-40ca-8eb5-3db3f8d7baa7"
      },
      "outputs": [
        {
          "name": "stdout",
          "output_type": "stream",
          "text": [
            "window_size_running: 2\n"
          ]
        },
        {
          "name": "stderr",
          "output_type": "stream",
          "text": [
            "100%|████████████████████████████████████████████████████████████████████████████| 40000/40000 [09:14<00:00, 72.16it/s]\n",
            "100%|████████████████████████████████████████████████████████████████████████████| 10000/10000 [02:25<00:00, 68.49it/s]\n"
          ]
        },
        {
          "name": "stdout",
          "output_type": "stream",
          "text": [
            "window_size_running: 3\n"
          ]
        },
        {
          "name": "stderr",
          "output_type": "stream",
          "text": [
            "100%|████████████████████████████████████████████████████████████████████████████| 40000/40000 [08:30<00:00, 78.28it/s]\n",
            "100%|████████████████████████████████████████████████████████████████████████████| 10000/10000 [02:42<00:00, 61.57it/s]\n"
          ]
        },
        {
          "name": "stdout",
          "output_type": "stream",
          "text": [
            "window_size_running: 5\n"
          ]
        },
        {
          "name": "stderr",
          "output_type": "stream",
          "text": [
            "100%|████████████████████████████████████████████████████████████████████████████| 40000/40000 [08:36<00:00, 77.47it/s]\n",
            "100%|████████████████████████████████████████████████████████████████████████████| 10000/10000 [02:18<00:00, 72.10it/s]\n"
          ]
        },
        {
          "name": "stdout",
          "output_type": "stream",
          "text": [
            "window_size_running: 10\n"
          ]
        },
        {
          "name": "stderr",
          "output_type": "stream",
          "text": [
            "100%|████████████████████████████████████████████████████████████████████████████| 40000/40000 [08:44<00:00, 76.25it/s]\n",
            "100%|████████████████████████████████████████████████████████████████████████████| 10000/10000 [02:12<00:00, 75.22it/s]\n"
          ]
        }
      ],
      "source": [
        "window_list = [2, 3, 5, 10]\n",
        "wind_train_acc_list = []\n",
        "wind_test_acc_list = []\n",
        "\n",
        "for window in window_list:\n",
        "    print(\"window_size_running: {}\".format(window))\n",
        "    wordvec_model = gensim.models.Word2Vec(X_train['text_tokens'], sg=1, vector_size=100, min_count=5, window=window, workers=4)\n",
        "    X_train_vec = []\n",
        "\n",
        "    for review in tqdm(X_train['text_tokens']) :\n",
        "        review_vectors = [wordvec_model.wv[word] for word in review if word in wordvec_model.wv.index_to_key]\n",
        "        X_train_vec.append(np.mean(review_vectors, axis=0))\n",
        "\n",
        "\n",
        "    X_test_vec = []\n",
        "    for review in tqdm(X_test['text_tokens']):\n",
        "        review_vectors = [wordvec_model.wv[word] for word in review if word in wordvec_model.wv.index_to_key]\n",
        "        if len(review_vectors) > 0:\n",
        "            X_test_vec.append(np.mean(review_vectors, axis=0))\n",
        "        else:\n",
        "            X_test_vec.append(np.zeros(wordvec_model.vector_size))\n",
        "    \n",
        "    lr_model = LogisticRegression(max_iter=1000)\n",
        "    lr_model.fit(X_train_vec, y_train)\n",
        "    \n",
        "    train_pred = lr_model.predict(X_train_vec)\n",
        "    test_pred = lr_model.predict(X_test_vec)\n",
        "    \n",
        "    train_acc = accuracy_score(y_train, train_pred)\n",
        "    test_acc = accuracy_score(y_test, test_pred)\n",
        "    \n",
        "    wind_train_acc_list.append(train_acc)\n",
        "    wind_test_acc_list.append(test_acc)"
      ]
    },
    {
      "cell_type": "code",
      "execution_count": null,
      "metadata": {
        "scrolled": true,
        "id": "3V_gtpXu4TID",
        "outputId": "8c091124-131e-4f0e-b69b-4a6f23f0ea95"
      },
      "outputs": [
        {
          "data": {
            "image/png": "[encoded data removed]",
            "text/plain": [
              "<Figure size 432x288 with 1 Axes>"
            ]
          },
          "metadata": {
            "needs_background": "light"
          },
          "output_type": "display_data"
        }
      ],
      "source": [
        "plt.plot(window_list,wind_train_acc_list, color='r',label='train')\n",
        "\n",
        "plt.plot(window_list,wind_test_acc_list, color='b',label='test')\n",
        "\n",
        "plt.xlabel('Vector Size')\n",
        "plt.ylabel('Accuracies')\n",
        "plt.title('Train vs Test Accuracies')\n",
        "\n",
        "plt.legend()\n",
        "plt.show()"
      ]
    },
    {
      "cell_type": "markdown",
      "metadata": {
        "id": "3lZ86FsL4TID"
      },
      "source": [
        "### Why would you want to use an RNN for sentiment analysis or text classification tasks instead of models that aren’t neural networks e.g. logistic regression?"
      ]
    },
    {
      "cell_type": "markdown",
      "metadata": {
        "id": "RRncyhaT4TID"
      },
      "source": [
        "RNN can be useful for sentiment analysis or text classification tasks because it can take into account the sequential nature of language. In contrast, models like logistic regression treat each word as an independent feature and do not consider the context or order of the words. An RNN can analyze the context of each word in the context of the words that came before it, which can lead to better performance on tasks that require understanding of language and its meaning."
      ]
    },
    {
      "cell_type": "code",
      "execution_count": 3,
      "metadata": {
        "id": "LIq1ytnb4TID"
      },
      "outputs": [],
      "source": [
        "#df_imdb = pd.read_csv(\"/content/gdrive/My Drive/IMDB Dataset.csv\")\n",
        "X_train, X_test, y_train, y_test = train_test_split(df_imdb[['review']], df_imdb['sentiment'], test_size=0.2, random_state=42,stratify=df_imdb['sentiment'])"
      ]
    },
    {
      "cell_type": "code",
      "execution_count": 5,
      "metadata": {
        "id": "NgJKni924TIE"
      },
      "outputs": [],
      "source": [
        "tokenizer = Tokenizer(num_words=None)\n",
        "tokenizer.fit_on_texts(X_train['review'])\n",
        "X_train_tok = tokenizer.texts_to_sequences(X_train['review'])\n",
        "X_test_tok = tokenizer.texts_to_sequences(X_test['review'])\n",
        "\n",
        "\n",
        "max_length = max(len(s) for s in X_test_tok)\n",
        "X_train_seq = pad_sequences(X_train_tok, padding='post', maxlen=max_length)\n",
        "X_test_seq = pad_sequences(X_test_tok, padding='post', maxlen=max_length)"
      ]
    },
    {
      "cell_type": "code",
      "execution_count": 11,
      "metadata": {
        "colab": {
          "base_uri": "https://localhost:8080/"
        },
        "id": "MAP_djbt4TIE",
        "outputId": "1672a957-9132-4238-ec59-7a5ec1be3862"
      },
      "outputs": [
        {
          "output_type": "stream",
          "name": "stderr",
          "text": [
            "WARNING:tensorflow:Layer lstm_1 will not use cuDNN kernels since it doesn't meet the criteria. It will use a generic GPU kernel as fallback when running on GPU.\n"
          ]
        }
      ],
      "source": [
        "vocab_size = len(tokenizer.word_index) + 1 "
      ]
    },
    {
      "cell_type": "code",
      "execution_count": 14,
      "metadata": {
        "id": "Fn0hDYmB4TIE"
      },
      "outputs": [],
      "source": [
        "model = tf.keras.Sequential([\n",
        "    tf.keras.layers.Embedding(\n",
        "        input_dim=vocab_size,\n",
        "        output_dim=2,\n",
        "        # Use masking to handle the variable sequence lengths\n",
        "        mask_zero=True),\n",
        "    tf.keras.layers.Bidirectional(tf.keras.layers.LSTM(300)),\n",
        "    tf.keras.layers.Dense(1, activation='sigmoid')\n",
        "])"
      ]
    },
    {
      "cell_type": "code",
      "source": [
        "model.compile(loss='binary_crossentropy',\n",
        "              optimizer=tf.keras.optimizers.Adam(1e-4),\n",
        "              metrics=['accuracy'])"
      ],
      "metadata": {
        "id": "VtpiqdrwGvzZ"
      },
      "execution_count": 15,
      "outputs": []
    },
    {
      "cell_type": "code",
      "source": [
        "history = model.fit(X_train_seq,y_train_enc, epochs=10, validation_data=(X_test_seq,y_test_enc))"
      ],
      "metadata": {
        "colab": {
          "base_uri": "https://localhost:8080/"
        },
        "id": "b9-WG-5cGx7H",
        "outputId": "0e0f0b5e-8dbf-4b65-d78b-f438dce9ea9b"
      },
      "execution_count": 18,
      "outputs": [
        {
          "output_type": "stream",
          "name": "stdout",
          "text": [
            "Epoch 1/10\n",
            "1250/1250 [==============================] - 82s 65ms/step - loss: 0.2289 - accuracy: 0.9138 - val_loss: 0.2847 - val_accuracy: 0.8859\n",
            "Epoch 2/10\n",
            "1250/1250 [==============================] - 79s 63ms/step - loss: 0.1858 - accuracy: 0.9312 - val_loss: 0.2940 - val_accuracy: 0.8880\n",
            "Epoch 3/10\n",
            "1250/1250 [==============================] - 74s 59ms/step - loss: 0.1586 - accuracy: 0.9445 - val_loss: 0.2771 - val_accuracy: 0.8875\n",
            "Epoch 4/10\n",
            "1250/1250 [==============================] - 77s 62ms/step - loss: 0.1422 - accuracy: 0.9516 - val_loss: 0.2633 - val_accuracy: 0.8942\n",
            "Epoch 5/10\n",
            "1250/1250 [==============================] - 72s 58ms/step - loss: 0.1229 - accuracy: 0.9602 - val_loss: 0.2666 - val_accuracy: 0.8950\n",
            "Epoch 6/10\n",
            "1250/1250 [==============================] - 78s 62ms/step - loss: 0.1032 - accuracy: 0.9675 - val_loss: 0.2708 - val_accuracy: 0.8974\n",
            "Epoch 7/10\n",
            "1250/1250 [==============================] - 77s 61ms/step - loss: 0.0859 - accuracy: 0.9734 - val_loss: 0.3364 - val_accuracy: 0.8929\n",
            "Epoch 8/10\n",
            "1250/1250 [==============================] - 73s 58ms/step - loss: 0.0754 - accuracy: 0.9780 - val_loss: 0.3700 - val_accuracy: 0.8210\n",
            "Epoch 9/10\n",
            "1250/1250 [==============================] - 72s 57ms/step - loss: 0.0634 - accuracy: 0.9827 - val_loss: 0.3058 - val_accuracy: 0.8917\n",
            "Epoch 10/10\n",
            "1250/1250 [==============================] - 76s 61ms/step - loss: 0.0500 - accuracy: 0.9867 - val_loss: 0.3414 - val_accuracy: 0.8920\n"
          ]
        }
      ]
    },
    {
      "cell_type": "code",
      "source": [
        "test_loss, test_acc = model.evaluate(X_test_seq,y_test_enc)\n",
        "print('RNN Test Accuracy:', test_acc)"
      ],
      "metadata": {
        "colab": {
          "base_uri": "https://localhost:8080/"
        },
        "id": "-VNefBRjTz2N",
        "outputId": "b7b8529d-4802-4620-d8bf-e7f0fb743891"
      },
      "execution_count": 21,
      "outputs": [
        {
          "output_type": "stream",
          "name": "stdout",
          "text": [
            "313/313 [==============================] - 9s 28ms/step - loss: 0.3414 - accuracy: 0.8920\n",
            "RNN Test Accuracy: 0.8920000195503235\n"
          ]
        }
      ]
    },
    {
      "cell_type": "code",
      "source": [
        "word_vectors_gg = gensim.models.KeyedVectors.load_word2vec_format('/content/gdrive/My Drive/GoogleNews-vectors-negative300.bin.gz',binary=True)"
      ],
      "metadata": {
        "id": "0GTm8qwEU8Gp"
      },
      "execution_count": 20,
      "outputs": []
    },
    {
      "cell_type": "code",
      "source": [
        "X_train, X_test, y_train, y_test = train_test_split(df_imdb[['text_tokens']], df_imdb['sentiment'], test_size=0.2, random_state=42,stratify=df_imdb['sentiment'])"
      ],
      "metadata": {
        "id": "_puOzEB5ee7M"
      },
      "execution_count": 22,
      "outputs": []
    },
    {
      "cell_type": "code",
      "source": [
        "X_train_vec = []\n",
        "for review in tqdm(X_train['text_tokens']) :\n",
        "    review_vectors = [word_vectors_gg[word] for word in review if word in word_vectors_gg.wv.vocab]\n",
        "    if len(review_vectors) > 0:\n",
        "        X_train_vec.append(np.mean(review_vectors, axis=0))\n",
        "    else:\n",
        "        X_train_vec.append(np.zeros(word_vectors_gg.vector_size))\n",
        "    \n",
        "\n",
        "X_test_vec = []\n",
        "for review in tqdm(X_test['text_tokens']):\n",
        "    review_vectors = [word_vectors_gg[word] for word in review if word in word_vectors_gg.wv.vocab]\n",
        "    if len(review_vectors) > 0:\n",
        "        X_test_vec.append(np.mean(review_vectors, axis=0))\n",
        "    else:\n",
        "        X_test_vec.append(np.zeros(word_vectors_gg.vector_size))"
      ],
      "metadata": {
        "colab": {
          "base_uri": "https://localhost:8080/"
        },
        "id": "3j7HQJuZAsuj",
        "outputId": "a7f029c6-3184-4b54-fdfc-0d446620ea23"
      },
      "execution_count": 24,
      "outputs": [
        {
          "output_type": "stream",
          "name": "stderr",
          "text": [
            "  0%|          | 0/40000 [00:00<?, ?it/s]<ipython-input-24-af33ec6dcd53>:3: DeprecationWarning: Call to deprecated `wv` (Attribute will be removed in 4.0.0, use self instead).\n",
            "  review_vectors = [word_vectors_gg[word] for word in review if word in word_vectors_gg.wv.vocab]\n",
            "100%|██████████| 40000/40000 [00:43<00:00, 916.92it/s] \n",
            "  0%|          | 0/10000 [00:00<?, ?it/s]<ipython-input-24-af33ec6dcd53>:12: DeprecationWarning: Call to deprecated `wv` (Attribute will be removed in 4.0.0, use self instead).\n",
            "  review_vectors = [word_vectors_gg[word] for word in review if word in word_vectors_gg.wv.vocab]\n",
            "100%|██████████| 10000/10000 [00:10<00:00, 923.28it/s]\n"
          ]
        }
      ]
    },
    {
      "cell_type": "code",
      "source": [
        "model_wc = tf.keras.Sequential([\n",
        "    tf.keras.layers.Embedding(\n",
        "        input_dim=301,\n",
        "        output_dim=2,\n",
        "        mask_zero=True),\n",
        "    tf.keras.layers.Bidirectional(tf.keras.layers.LSTM(300)),\n",
        "    tf.keras.layers.Dense(1, activation='sigmoid')\n",
        "])"
      ],
      "metadata": {
        "id": "jDIuiZAIp73h"
      },
      "execution_count": 25,
      "outputs": []
    },
    {
      "cell_type": "code",
      "source": [
        "le = LabelEncoder()\n",
        "le.fit(y_train)\n",
        "y_train_enc = le.transform(y_train)\n",
        "y_test_enc = le.transform(y_test)"
      ],
      "metadata": {
        "id": "RaQDqIElqYF0"
      },
      "execution_count": 27,
      "outputs": []
    },
    {
      "cell_type": "code",
      "source": [
        "model_wc.compile(loss='binary_crossentropy',\n",
        "              optimizer=tf.keras.optimizers.Adam(1e-4),\n",
        "              metrics=['accuracy'])\n",
        "\n",
        "history = model_wc.fit(np.stack(X_train_vec),y_train_enc, epochs=10, validation_data=(np.stack(X_test_vec),y_test_enc))"
      ],
      "metadata": {
        "colab": {
          "base_uri": "https://localhost:8080/"
        },
        "id": "mChw6Ef1BYwO",
        "outputId": "82806b29-ac99-45c7-8ed1-a7a570684a50"
      },
      "execution_count": 28,
      "outputs": [
        {
          "output_type": "stream",
          "name": "stdout",
          "text": [
            "Epoch 1/10\n",
            "1250/1250 [==============================] - 76s 51ms/step - loss: 0.6932 - accuracy: 0.4976 - val_loss: 0.6931 - val_accuracy: 0.5000\n",
            "Epoch 2/10\n",
            "1250/1250 [==============================] - 61s 49ms/step - loss: 0.6932 - accuracy: 0.4985 - val_loss: 0.6932 - val_accuracy: 0.5000\n",
            "Epoch 3/10\n",
            "1250/1250 [==============================] - 68s 55ms/step - loss: 0.6932 - accuracy: 0.4992 - val_loss: 0.6931 - val_accuracy: 0.5000\n",
            "Epoch 4/10\n",
            "1250/1250 [==============================] - 60s 48ms/step - loss: 0.6932 - accuracy: 0.4973 - val_loss: 0.6932 - val_accuracy: 0.5000\n",
            "Epoch 5/10\n",
            "1250/1250 [==============================] - 61s 49ms/step - loss: 0.6932 - accuracy: 0.4999 - val_loss: 0.6931 - val_accuracy: 0.5000\n",
            "Epoch 6/10\n",
            "1250/1250 [==============================] - 65s 52ms/step - loss: 0.6932 - accuracy: 0.4983 - val_loss: 0.6931 - val_accuracy: 0.5000\n",
            "Epoch 7/10\n",
            "1250/1250 [==============================] - 60s 48ms/step - loss: 0.6932 - accuracy: 0.4947 - val_loss: 0.6931 - val_accuracy: 0.5000\n",
            "Epoch 8/10\n",
            "1250/1250 [==============================] - 61s 49ms/step - loss: 0.6932 - accuracy: 0.5002 - val_loss: 0.6931 - val_accuracy: 0.5000\n",
            "Epoch 9/10\n",
            "1250/1250 [==============================] - 60s 48ms/step - loss: 0.6932 - accuracy: 0.4961 - val_loss: 0.6931 - val_accuracy: 0.5000\n",
            "Epoch 10/10\n",
            "1250/1250 [==============================] - 65s 52ms/step - loss: 0.6932 - accuracy: 0.5006 - val_loss: 0.6932 - val_accuracy: 0.5000\n"
          ]
        }
      ]
    },
    {
      "cell_type": "code",
      "source": [
        "test_loss, test_acc = model_wc.evaluate(np.stack(X_test_vec),y_test_enc)\n",
        "print('RNN Test Accuracy:', test_acc)"
      ],
      "metadata": {
        "colab": {
          "base_uri": "https://localhost:8080/"
        },
        "id": "YucrNMBxwNtZ",
        "outputId": "67e518ad-caed-4e31-fd19-53d442458523"
      },
      "execution_count": 29,
      "outputs": [
        {
          "output_type": "stream",
          "name": "stdout",
          "text": [
            "313/313 [==============================] - 6s 20ms/step - loss: 0.6932 - accuracy: 0.5000\n",
            "RNN Test Accuracy: 0.5\n"
          ]
        }
      ]
    },
    {
      "cell_type": "markdown",
      "source": [
        "### Question-4"
      ],
      "metadata": {
        "id": "u4Qxd8dHx6hd"
      }
    },
    {
      "cell_type": "code",
      "source": [
        "wordvec_model = gensim.models.Word2Vec(df_imdb['text_tokens'], sg=1, vector_size=100, min_count=5, window=5, workers=4)"
      ],
      "metadata": {
        "id": "orYYJTyKylTq"
      },
      "execution_count": 7,
      "outputs": []
    },
    {
      "cell_type": "code",
      "source": [
        "interesting_wc = wordvec_model.wv.most_similar('interesting', topn=20)\n",
        "boring_wc = wordvec_model.wv.most_similar('boring', topn=2)\n",
        "\n",
        "print(\"Trained Word2Vec , top 20 most similar words to 'interesting':\")\n",
        "print(interesting_wc)\n",
        "\n",
        "print(\"Trained Word2Vec, top 20 most similar words to 'boring':\")\n",
        "print(boring_wc)"
      ],
      "metadata": {
        "colab": {
          "base_uri": "https://localhost:8080/"
        },
        "id": "8MoKK26PyAr9",
        "outputId": "9b241c7e-0056-47d5-95cb-87b7ca4c9cab"
      },
      "execution_count": 11,
      "outputs": [
        {
          "output_type": "stream",
          "name": "stdout",
          "text": [
            "Trained Word2Vec , top 20 most similar words to 'interesting':\n",
            "[('intriguing', 0.8363513946533203), ('fascinating', 0.7766485810279846), ('exciting', 0.7530415058135986), ('substantive', 0.7464281320571899), ('engaging', 0.7418602108955383), ('entertaining', 0.738772988319397), ('important', 0.7222437858581543), ('enjoyable', 0.7160022258758545), ('enticing', 0.7084144949913025), ('worthwhile', 0.700660765171051), ('plausible', 0.6970651745796204), ('unusual', 0.6969402432441711), ('disconcerting', 0.6968598365783691), ('compelling', 0.6868720054626465), ('engrossing', 0.6784526109695435), ('effective', 0.6762152910232544), ('satisfactory', 0.675615668296814), ('followable', 0.6642134785652161), ('smoother', 0.6610172390937805), ('informative', 0.658810555934906)]\n",
            "Trained Word2Vec, top 20 most similar words to 'boring':\n",
            "[('dull', 0.8937370777130127), ('tedious', 0.8606827855110168)]\n"
          ]
        }
      ]
    },
    {
      "cell_type": "code",
      "source": [
        "word_vectors_gg = gensim.models.KeyedVectors.load_word2vec_format('/content/gdrive/My Drive/GoogleNews-vectors-negative300.bin.gz',binary=True)"
      ],
      "metadata": {
        "id": "QsNA-_kT3u8B"
      },
      "execution_count": 2,
      "outputs": []
    },
    {
      "cell_type": "code",
      "source": [
        "interesting_gg = word_vectors_gg.most_similar('interesting', topn=20)\n",
        "boring_gg = word_vectors_gg.most_similar('boring', topn=20)\n",
        "print(\"Pre-trained Word2Vec, top 20 most similar words to 'interesting':\")\n",
        "print(interesting_gg)\n",
        "print(\"Pre-trained Word2Vec, top 20 most similar words to 'boring':\")\n",
        "print(boring_gg)"
      ],
      "metadata": {
        "id": "sYLwid9DzIyI"
      },
      "execution_count": null,
      "outputs": []
    },
    {
      "cell_type": "code",
      "source": [
        "pca = PCA(n_components=0.75) \n",
        "embeddings_pca_wc = pca.fit_transform(wordvec_model.wv.vectors)"
      ],
      "metadata": {
        "id": "1ga3_Hh431YQ"
      },
      "execution_count": 9,
      "outputs": []
    },
    {
      "cell_type": "code",
      "source": [
        "print(\"The number of components need to explain the 75% variance in the trained-model is {}\".format(len(embeddings_pca_wc[0])))"
      ],
      "metadata": {
        "colab": {
          "base_uri": "https://localhost:8080/"
        },
        "id": "KQH2lZJ64C5Q",
        "outputId": "0e9fb331-08bf-4198-a625-ab5d690df723"
      },
      "execution_count": 13,
      "outputs": [
        {
          "output_type": "stream",
          "name": "stdout",
          "text": [
            "The number of components need to explain the 75% variance is 40\n"
          ]
        }
      ]
    },
    {
      "cell_type": "code",
      "source": [
        "pca = PCA(n_components=0.75) \n",
        "embeddings_pca_gg = pca.fit_transform(word_vectors_gg.vectors)"
      ],
      "metadata": {
        "id": "sWdKV70X6o4U"
      },
      "execution_count": 16,
      "outputs": []
    },
    {
      "cell_type": "code",
      "source": [
        "word_keywords = [\"interesting\", \"boring\"] + [i[0] for i in interesting_wc] +  [i[0] for i in boring_wc] \n",
        "word_keywords_vectors = [wordvec_model.wv[word] for word in word_keywords]\n",
        "\n",
        "pca_key_words = pca.fit_transform(word_keywords_vectors)"
      ],
      "metadata": {
        "id": "TOs7cqiV7fre"
      },
      "execution_count": 18,
      "outputs": []
    },
    {
      "cell_type": "code",
      "source": [
        "fig, ax = plt.subplots(figsize=(10, 10))\n",
        "ax.scatter(pca_key_words[:, 0], pca_key_words[:, 1])\n",
        "\n",
        "for i, word in enumerate(word_keywords):\n",
        "    ax.annotate(word, (pca_key_words[i, 0], pca_key_words[i, 1]))\n",
        "    \n",
        "plt.show()"
      ],
      "metadata": {
        "colab": {
          "base_uri": "https://localhost:8080/",
          "height": 592
        },
        "id": "AUpIVW5X-PZt",
        "outputId": "35d6a762-4c43-409e-f15e-be87950b61cd"
      },
      "execution_count": 19,
      "outputs": [
        {
          "output_type": "display_data",
          "data": {
            "text/plain": [
              "<Figure size 720x720 with 1 Axes>"
            ],
            "image/png": "[encoded data removed]"
          },
          "metadata": {
            "needs_background": "light"
          }
        }
      ]
    }
  ],
  "metadata": {
    "kernelspec": {
      "display_name": "Python 3 (ipykernel)",
      "language": "python",
      "name": "python3"
    },
    "language_info": {
      "codemirror_mode": {
        "name": "ipython",
        "version": 3
      },
      "file_extension": ".py",
      "mimetype": "text/x-python",
      "name": "python",
      "nbconvert_exporter": "python",
      "pygments_lexer": "ipython3",
      "version": "3.10.4"
    },
    "colab": {
      "provenance": []
    },
    "accelerator": "GPU",
    "gpuClass": "standard"
  },
  "nbformat": 4,
  "nbformat_minor": 0
}